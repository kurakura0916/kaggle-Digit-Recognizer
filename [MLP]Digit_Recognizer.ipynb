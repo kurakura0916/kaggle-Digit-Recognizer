{
 "cells": [
  {
   "cell_type": "code",
   "execution_count": 41,
   "metadata": {},
   "outputs": [],
   "source": [
    "%matplotlib inline"
   ]
  },
  {
   "cell_type": "code",
   "execution_count": 40,
   "metadata": {},
   "outputs": [],
   "source": [
    "import numpy as np\n",
    "import pandas as pd\n",
    "np.random.seed(151)"
   ]
  },
  {
   "cell_type": "code",
   "execution_count": 85,
   "metadata": {},
   "outputs": [],
   "source": [
    "from chainer import Chain,Variable\n",
    "import chainer\n",
    "import chainer.links as L\n",
    "import chainer.functions  as F\n",
    "from chainer.datasets import split_dataset_random\n",
    "from chainer.datasets import TupleDataset\n",
    "from chainer.iterators import SerialIterator\n",
    "from chainer.training import StandardUpdater,Trainer\n",
    "from chainer.training.extensions import PrintReport,LogReport,Evaluator\n",
    "from sklearn.preprocessing import StandardScaler\n",
    "from chainer.datasets import TupleDataset\n",
    "from chainer.optimizers import Adam\n",
    "from sklearn.metrics import classification_report\n",
    "from chainer.optimizers import SGD"
   ]
  },
  {
   "cell_type": "code",
   "execution_count": 59,
   "metadata": {},
   "outputs": [],
   "source": [
    "# データの読み込み\n",
    "train = pd.read_csv(\"data/train.csv\")\n",
    "test = pd.read_csv(\"data/test.csv\")"
   ]
  },
  {
   "cell_type": "code",
   "execution_count": 60,
   "metadata": {},
   "outputs": [
    {
     "data": {
      "text/html": [
       "<div>\n",
       "<style scoped>\n",
       "    .dataframe tbody tr th:only-of-type {\n",
       "        vertical-align: middle;\n",
       "    }\n",
       "\n",
       "    .dataframe tbody tr th {\n",
       "        vertical-align: top;\n",
       "    }\n",
       "\n",
       "    .dataframe thead th {\n",
       "        text-align: right;\n",
       "    }\n",
       "</style>\n",
       "<table border=\"1\" class=\"dataframe\">\n",
       "  <thead>\n",
       "    <tr style=\"text-align: right;\">\n",
       "      <th></th>\n",
       "      <th>label</th>\n",
       "      <th>pixel0</th>\n",
       "      <th>pixel1</th>\n",
       "      <th>pixel2</th>\n",
       "      <th>pixel3</th>\n",
       "      <th>pixel4</th>\n",
       "      <th>pixel5</th>\n",
       "      <th>pixel6</th>\n",
       "      <th>pixel7</th>\n",
       "      <th>pixel8</th>\n",
       "      <th>...</th>\n",
       "      <th>pixel774</th>\n",
       "      <th>pixel775</th>\n",
       "      <th>pixel776</th>\n",
       "      <th>pixel777</th>\n",
       "      <th>pixel778</th>\n",
       "      <th>pixel779</th>\n",
       "      <th>pixel780</th>\n",
       "      <th>pixel781</th>\n",
       "      <th>pixel782</th>\n",
       "      <th>pixel783</th>\n",
       "    </tr>\n",
       "  </thead>\n",
       "  <tbody>\n",
       "    <tr>\n",
       "      <th>0</th>\n",
       "      <td>1</td>\n",
       "      <td>0</td>\n",
       "      <td>0</td>\n",
       "      <td>0</td>\n",
       "      <td>0</td>\n",
       "      <td>0</td>\n",
       "      <td>0</td>\n",
       "      <td>0</td>\n",
       "      <td>0</td>\n",
       "      <td>0</td>\n",
       "      <td>...</td>\n",
       "      <td>0</td>\n",
       "      <td>0</td>\n",
       "      <td>0</td>\n",
       "      <td>0</td>\n",
       "      <td>0</td>\n",
       "      <td>0</td>\n",
       "      <td>0</td>\n",
       "      <td>0</td>\n",
       "      <td>0</td>\n",
       "      <td>0</td>\n",
       "    </tr>\n",
       "    <tr>\n",
       "      <th>1</th>\n",
       "      <td>0</td>\n",
       "      <td>0</td>\n",
       "      <td>0</td>\n",
       "      <td>0</td>\n",
       "      <td>0</td>\n",
       "      <td>0</td>\n",
       "      <td>0</td>\n",
       "      <td>0</td>\n",
       "      <td>0</td>\n",
       "      <td>0</td>\n",
       "      <td>...</td>\n",
       "      <td>0</td>\n",
       "      <td>0</td>\n",
       "      <td>0</td>\n",
       "      <td>0</td>\n",
       "      <td>0</td>\n",
       "      <td>0</td>\n",
       "      <td>0</td>\n",
       "      <td>0</td>\n",
       "      <td>0</td>\n",
       "      <td>0</td>\n",
       "    </tr>\n",
       "    <tr>\n",
       "      <th>2</th>\n",
       "      <td>1</td>\n",
       "      <td>0</td>\n",
       "      <td>0</td>\n",
       "      <td>0</td>\n",
       "      <td>0</td>\n",
       "      <td>0</td>\n",
       "      <td>0</td>\n",
       "      <td>0</td>\n",
       "      <td>0</td>\n",
       "      <td>0</td>\n",
       "      <td>...</td>\n",
       "      <td>0</td>\n",
       "      <td>0</td>\n",
       "      <td>0</td>\n",
       "      <td>0</td>\n",
       "      <td>0</td>\n",
       "      <td>0</td>\n",
       "      <td>0</td>\n",
       "      <td>0</td>\n",
       "      <td>0</td>\n",
       "      <td>0</td>\n",
       "    </tr>\n",
       "    <tr>\n",
       "      <th>3</th>\n",
       "      <td>4</td>\n",
       "      <td>0</td>\n",
       "      <td>0</td>\n",
       "      <td>0</td>\n",
       "      <td>0</td>\n",
       "      <td>0</td>\n",
       "      <td>0</td>\n",
       "      <td>0</td>\n",
       "      <td>0</td>\n",
       "      <td>0</td>\n",
       "      <td>...</td>\n",
       "      <td>0</td>\n",
       "      <td>0</td>\n",
       "      <td>0</td>\n",
       "      <td>0</td>\n",
       "      <td>0</td>\n",
       "      <td>0</td>\n",
       "      <td>0</td>\n",
       "      <td>0</td>\n",
       "      <td>0</td>\n",
       "      <td>0</td>\n",
       "    </tr>\n",
       "    <tr>\n",
       "      <th>4</th>\n",
       "      <td>0</td>\n",
       "      <td>0</td>\n",
       "      <td>0</td>\n",
       "      <td>0</td>\n",
       "      <td>0</td>\n",
       "      <td>0</td>\n",
       "      <td>0</td>\n",
       "      <td>0</td>\n",
       "      <td>0</td>\n",
       "      <td>0</td>\n",
       "      <td>...</td>\n",
       "      <td>0</td>\n",
       "      <td>0</td>\n",
       "      <td>0</td>\n",
       "      <td>0</td>\n",
       "      <td>0</td>\n",
       "      <td>0</td>\n",
       "      <td>0</td>\n",
       "      <td>0</td>\n",
       "      <td>0</td>\n",
       "      <td>0</td>\n",
       "    </tr>\n",
       "  </tbody>\n",
       "</table>\n",
       "<p>5 rows × 785 columns</p>\n",
       "</div>"
      ],
      "text/plain": [
       "   label  pixel0  pixel1  pixel2  pixel3  pixel4  pixel5  pixel6  pixel7  \\\n",
       "0      1       0       0       0       0       0       0       0       0   \n",
       "1      0       0       0       0       0       0       0       0       0   \n",
       "2      1       0       0       0       0       0       0       0       0   \n",
       "3      4       0       0       0       0       0       0       0       0   \n",
       "4      0       0       0       0       0       0       0       0       0   \n",
       "\n",
       "   pixel8    ...     pixel774  pixel775  pixel776  pixel777  pixel778  \\\n",
       "0       0    ...            0         0         0         0         0   \n",
       "1       0    ...            0         0         0         0         0   \n",
       "2       0    ...            0         0         0         0         0   \n",
       "3       0    ...            0         0         0         0         0   \n",
       "4       0    ...            0         0         0         0         0   \n",
       "\n",
       "   pixel779  pixel780  pixel781  pixel782  pixel783  \n",
       "0         0         0         0         0         0  \n",
       "1         0         0         0         0         0  \n",
       "2         0         0         0         0         0  \n",
       "3         0         0         0         0         0  \n",
       "4         0         0         0         0         0  \n",
       "\n",
       "[5 rows x 785 columns]"
      ]
     },
     "execution_count": 60,
     "metadata": {},
     "output_type": "execute_result"
    }
   ],
   "source": [
    "train.head()"
   ]
  },
  {
   "cell_type": "code",
   "execution_count": 118,
   "metadata": {},
   "outputs": [
    {
     "data": {
      "text/html": [
       "<div>\n",
       "<style scoped>\n",
       "    .dataframe tbody tr th:only-of-type {\n",
       "        vertical-align: middle;\n",
       "    }\n",
       "\n",
       "    .dataframe tbody tr th {\n",
       "        vertical-align: top;\n",
       "    }\n",
       "\n",
       "    .dataframe thead th {\n",
       "        text-align: right;\n",
       "    }\n",
       "</style>\n",
       "<table border=\"1\" class=\"dataframe\">\n",
       "  <thead>\n",
       "    <tr style=\"text-align: right;\">\n",
       "      <th></th>\n",
       "      <th>pixel0</th>\n",
       "      <th>pixel1</th>\n",
       "      <th>pixel2</th>\n",
       "      <th>pixel3</th>\n",
       "      <th>pixel4</th>\n",
       "      <th>pixel5</th>\n",
       "      <th>pixel6</th>\n",
       "      <th>pixel7</th>\n",
       "      <th>pixel8</th>\n",
       "      <th>pixel9</th>\n",
       "      <th>...</th>\n",
       "      <th>pixel774</th>\n",
       "      <th>pixel775</th>\n",
       "      <th>pixel776</th>\n",
       "      <th>pixel777</th>\n",
       "      <th>pixel778</th>\n",
       "      <th>pixel779</th>\n",
       "      <th>pixel780</th>\n",
       "      <th>pixel781</th>\n",
       "      <th>pixel782</th>\n",
       "      <th>pixel783</th>\n",
       "    </tr>\n",
       "  </thead>\n",
       "  <tbody>\n",
       "    <tr>\n",
       "      <th>0</th>\n",
       "      <td>0</td>\n",
       "      <td>0</td>\n",
       "      <td>0</td>\n",
       "      <td>0</td>\n",
       "      <td>0</td>\n",
       "      <td>0</td>\n",
       "      <td>0</td>\n",
       "      <td>0</td>\n",
       "      <td>0</td>\n",
       "      <td>0</td>\n",
       "      <td>...</td>\n",
       "      <td>0</td>\n",
       "      <td>0</td>\n",
       "      <td>0</td>\n",
       "      <td>0</td>\n",
       "      <td>0</td>\n",
       "      <td>0</td>\n",
       "      <td>0</td>\n",
       "      <td>0</td>\n",
       "      <td>0</td>\n",
       "      <td>0</td>\n",
       "    </tr>\n",
       "    <tr>\n",
       "      <th>1</th>\n",
       "      <td>0</td>\n",
       "      <td>0</td>\n",
       "      <td>0</td>\n",
       "      <td>0</td>\n",
       "      <td>0</td>\n",
       "      <td>0</td>\n",
       "      <td>0</td>\n",
       "      <td>0</td>\n",
       "      <td>0</td>\n",
       "      <td>0</td>\n",
       "      <td>...</td>\n",
       "      <td>0</td>\n",
       "      <td>0</td>\n",
       "      <td>0</td>\n",
       "      <td>0</td>\n",
       "      <td>0</td>\n",
       "      <td>0</td>\n",
       "      <td>0</td>\n",
       "      <td>0</td>\n",
       "      <td>0</td>\n",
       "      <td>0</td>\n",
       "    </tr>\n",
       "    <tr>\n",
       "      <th>2</th>\n",
       "      <td>0</td>\n",
       "      <td>0</td>\n",
       "      <td>0</td>\n",
       "      <td>0</td>\n",
       "      <td>0</td>\n",
       "      <td>0</td>\n",
       "      <td>0</td>\n",
       "      <td>0</td>\n",
       "      <td>0</td>\n",
       "      <td>0</td>\n",
       "      <td>...</td>\n",
       "      <td>0</td>\n",
       "      <td>0</td>\n",
       "      <td>0</td>\n",
       "      <td>0</td>\n",
       "      <td>0</td>\n",
       "      <td>0</td>\n",
       "      <td>0</td>\n",
       "      <td>0</td>\n",
       "      <td>0</td>\n",
       "      <td>0</td>\n",
       "    </tr>\n",
       "    <tr>\n",
       "      <th>3</th>\n",
       "      <td>0</td>\n",
       "      <td>0</td>\n",
       "      <td>0</td>\n",
       "      <td>0</td>\n",
       "      <td>0</td>\n",
       "      <td>0</td>\n",
       "      <td>0</td>\n",
       "      <td>0</td>\n",
       "      <td>0</td>\n",
       "      <td>0</td>\n",
       "      <td>...</td>\n",
       "      <td>0</td>\n",
       "      <td>0</td>\n",
       "      <td>0</td>\n",
       "      <td>0</td>\n",
       "      <td>0</td>\n",
       "      <td>0</td>\n",
       "      <td>0</td>\n",
       "      <td>0</td>\n",
       "      <td>0</td>\n",
       "      <td>0</td>\n",
       "    </tr>\n",
       "    <tr>\n",
       "      <th>4</th>\n",
       "      <td>0</td>\n",
       "      <td>0</td>\n",
       "      <td>0</td>\n",
       "      <td>0</td>\n",
       "      <td>0</td>\n",
       "      <td>0</td>\n",
       "      <td>0</td>\n",
       "      <td>0</td>\n",
       "      <td>0</td>\n",
       "      <td>0</td>\n",
       "      <td>...</td>\n",
       "      <td>0</td>\n",
       "      <td>0</td>\n",
       "      <td>0</td>\n",
       "      <td>0</td>\n",
       "      <td>0</td>\n",
       "      <td>0</td>\n",
       "      <td>0</td>\n",
       "      <td>0</td>\n",
       "      <td>0</td>\n",
       "      <td>0</td>\n",
       "    </tr>\n",
       "  </tbody>\n",
       "</table>\n",
       "<p>5 rows × 784 columns</p>\n",
       "</div>"
      ],
      "text/plain": [
       "   pixel0  pixel1  pixel2  pixel3  pixel4  pixel5  pixel6  pixel7  pixel8  \\\n",
       "0       0       0       0       0       0       0       0       0       0   \n",
       "1       0       0       0       0       0       0       0       0       0   \n",
       "2       0       0       0       0       0       0       0       0       0   \n",
       "3       0       0       0       0       0       0       0       0       0   \n",
       "4       0       0       0       0       0       0       0       0       0   \n",
       "\n",
       "   pixel9    ...     pixel774  pixel775  pixel776  pixel777  pixel778  \\\n",
       "0       0    ...            0         0         0         0         0   \n",
       "1       0    ...            0         0         0         0         0   \n",
       "2       0    ...            0         0         0         0         0   \n",
       "3       0    ...            0         0         0         0         0   \n",
       "4       0    ...            0         0         0         0         0   \n",
       "\n",
       "   pixel779  pixel780  pixel781  pixel782  pixel783  \n",
       "0         0         0         0         0         0  \n",
       "1         0         0         0         0         0  \n",
       "2         0         0         0         0         0  \n",
       "3         0         0         0         0         0  \n",
       "4         0         0         0         0         0  \n",
       "\n",
       "[5 rows x 784 columns]"
      ]
     },
     "execution_count": 118,
     "metadata": {},
     "output_type": "execute_result"
    }
   ],
   "source": [
    "test.head()"
   ]
  },
  {
   "cell_type": "code",
   "execution_count": 121,
   "metadata": {},
   "outputs": [],
   "source": [
    "#  入力データと正解データに分割\n",
    "train_x = train.iloc[:,1:].values.astype(np.float32)\n",
    "train_y = train.iloc[:,0].values.astype(np.int32)\n",
    "test = test.values.astype(np.float32)"
   ]
  },
  {
   "cell_type": "code",
   "execution_count": 63,
   "metadata": {},
   "outputs": [],
   "source": [
    "from sklearn.model_selection import train_test_split"
   ]
  },
  {
   "cell_type": "code",
   "execution_count": 70,
   "metadata": {},
   "outputs": [
    {
     "name": "stderr",
     "output_type": "stream",
     "text": [
      "/Users/hiroki.kurasawa/anaconda3/lib/python3.6/site-packages/sklearn/model_selection/_split.py:2026: FutureWarning: From version 0.21, test_size will always complement train_size unless both are specified.\n",
      "  FutureWarning)\n"
     ]
    }
   ],
   "source": [
    "# 訓練用データと検証用データに分割\n",
    "train_x, valid_x, train_y, valid_y = train_test_split(train_x, train_y, train_size=0.8, random_state=1)"
   ]
  },
  {
   "cell_type": "code",
   "execution_count": 119,
   "metadata": {},
   "outputs": [
    {
     "name": "stdout",
     "output_type": "stream",
     "text": [
      "train_x:(26880, 784)\n",
      "train_y:(26880,)\n",
      "valid_x:(6720, 784)\n",
      "valid_y:(6720,)\n",
      "test:(28000, 784)\n"
     ]
    }
   ],
   "source": [
    "# データサイズの確認\n",
    "print(\"train_x:{}\".format(train_x.shape))\n",
    "print(\"train_y:{}\".format(train_y.shape))\n",
    "print(\"valid_x:{}\".format(valid_x.shape))\n",
    "print(\"valid_y:{}\".format(valid_y.shape))\n",
    "print(\"test:{}\".format(test.shape))"
   ]
  },
  {
   "cell_type": "code",
   "execution_count": 35,
   "metadata": {},
   "outputs": [
    {
     "data": {
      "text/plain": [
       "array([1, 0, 4, 7, 3, 5, 8, 9, 2, 6])"
      ]
     },
     "execution_count": 35,
     "metadata": {},
     "output_type": "execute_result"
    }
   ],
   "source": [
    "train['label'].unique()"
   ]
  },
  {
   "cell_type": "code",
   "execution_count": 142,
   "metadata": {},
   "outputs": [],
   "source": [
    "# モデルの定義\n",
    "class Model(Chain):\n",
    "    def __init__(self):\n",
    "        super(Model,self).__init__()\n",
    "        with self.init_scope():\n",
    "            self.l1 = L.Linear(784,1000)\n",
    "            self.l2 = L.Linear(1000,800)\n",
    "            self.l3 = L.Linear(800,100)\n",
    "            self.l4 = L.Linear(100,10)\n",
    "\n",
    "    \n",
    "    def __call__(self,x):\n",
    "        h = F.relu(self.l1(x))\n",
    "        h = F.dropout(h,ratio=0.5)\n",
    "        h = F.relu(self.l2(h))\n",
    "        h = F.dropout(h,ratio=0.5)\n",
    "        h = F.relu(self.l3(h))\n",
    "        return self.l4(h)            "
   ]
  },
  {
   "cell_type": "code",
   "execution_count": 76,
   "metadata": {},
   "outputs": [],
   "source": [
    "# 入力データと正解データをタプル型に変換\n",
    "train_dataset = TupleDataset(train_x,train_y)\n",
    "valid_dataset = TupleDataset(valid_x,valid_y)"
   ]
  },
  {
   "cell_type": "code",
   "execution_count": 92,
   "metadata": {},
   "outputs": [
    {
     "data": {
      "text/plain": [
       "784"
      ]
     },
     "execution_count": 92,
     "metadata": {},
     "output_type": "execute_result"
    }
   ],
   "source": [
    "len(valid_dataset[0][0])"
   ]
  },
  {
   "cell_type": "code",
   "execution_count": 100,
   "metadata": {},
   "outputs": [],
   "source": [
    "# ミニバッチの作成\n",
    "train_iterator = SerialIterator(train_dataset,batch_size = 100 , repeat=True)\n",
    "valid_iterator = SerialIterator(valid_dataset,batch_size = 100 , shuffle=False,repeat=False)"
   ]
  },
  {
   "cell_type": "code",
   "execution_count": 143,
   "metadata": {},
   "outputs": [
    {
     "name": "stdout",
     "output_type": "stream",
     "text": [
      "iteration   main/loss   validation/main/loss  main/accuracy  validation/main/accuracy\n",
      "\u001b[J100         7.06526     0.909309              0.508          0.756765                  \n",
      "\u001b[J200         1.09118     0.534885              0.7089         0.846618                  \n",
      "\u001b[J300         0.785076    0.387752              0.7887         0.891912                  \n",
      "\u001b[J400         0.621775    0.329337              0.8309         0.906912                  \n",
      "\u001b[J500         0.520163    0.286604              0.8568         0.924412                  \n",
      "\u001b[J600         0.430102    0.254481              0.8783         0.930441                  \n",
      "\u001b[J700         0.398004    0.240556              0.8894         0.934265                  \n",
      "\u001b[J800         0.352824    0.230216              0.9009         0.9375                    \n",
      "\u001b[J900         0.314       0.212675              0.9095         0.940588                  \n",
      "\u001b[J1000        0.304945    0.210366              0.9156         0.945588                  \n",
      "\u001b[J1100        0.298583    0.187662              0.9165         0.948971                  \n",
      "\u001b[J1200        0.263905    0.189499              0.9248         0.951029                  \n",
      "\u001b[J1300        0.25462     0.182207              0.9231         0.951176                  \n",
      "\u001b[J1400        0.259471    0.183831              0.9279         0.951176                  \n",
      "\u001b[J1500        0.236263    0.161895              0.9317         0.956471                  \n",
      "\u001b[J1600        0.211491    0.157982              0.9375         0.956912                  \n",
      "\u001b[J1700        0.202536    0.166221              0.941          0.956176                  \n",
      "\u001b[J1800        0.183233    0.157301              0.9453         0.958824                  \n",
      "\u001b[J1900        0.1915      0.155698              0.9403         0.958382                  \n",
      "\u001b[J2000        0.172987    0.158535              0.9464         0.959412                  \n",
      "\u001b[J2100        0.178802    0.151902              0.9476         0.959706                  \n",
      "\u001b[J2200        0.173015    0.141717              0.9492         0.961029                  \n",
      "\u001b[J2300        0.153896    0.144049              0.9561         0.961029                  \n",
      "\u001b[J2400        0.159597    0.148636              0.9525         0.959118                  \n",
      "\u001b[J2500        0.159463    0.149358              0.9513         0.959706                  \n",
      "\u001b[J2600        0.160126    0.14133               0.9517         0.962059                  \n",
      "\u001b[J2700        0.158478    0.147338              0.9535         0.96                      \n",
      "\u001b[J2800        0.154444    0.131094              0.9558         0.963529                  \n",
      "\u001b[J2900        0.145208    0.147303              0.9582         0.961176                  \n",
      "\u001b[J3000        0.157371    0.132802              0.955          0.963676                  \n",
      "\u001b[J3100        0.136637    0.129129              0.9571         0.967353                  \n",
      "\u001b[J3200        0.15214     0.152666              0.9534         0.961912                  \n",
      "\u001b[J3300        0.12778     0.13514               0.9611         0.962647                  \n",
      "\u001b[J3400        0.139686    0.139446              0.9569         0.961618                  \n",
      "\u001b[J3500        0.148097    0.123109              0.9567         0.965                     \n",
      "\u001b[J3600        0.126472    0.116942              0.9606         0.968088                  \n",
      "\u001b[J3700        0.137685    0.136262              0.957          0.963971                  \n",
      "\u001b[J3800        0.11894     0.134474              0.9652         0.965882                  \n",
      "\u001b[J3900        0.127471    0.121357              0.9625         0.965735                  \n",
      "\u001b[J4000        0.11479     0.124893              0.9668         0.964118                  \n",
      "\u001b[J4100        0.118079    0.12315               0.9649         0.968971                  \n",
      "\u001b[J4200        0.109897    0.121726              0.9652         0.967647                  \n",
      "\u001b[J4300        0.124993    0.13088               0.9661         0.968235                  \n",
      "\u001b[J4400        0.119716    0.115303              0.9637         0.969265                  \n",
      "\u001b[J4500        0.124815    0.119816              0.9652         0.968382                  \n",
      "\u001b[J4600        0.119356    0.125739              0.9653         0.969706                  \n",
      "\u001b[J4700        0.11505     0.113926              0.9661         0.969118                  \n",
      "\u001b[J4800        0.10866     0.123077              0.9686         0.967647                  \n",
      "\u001b[J4900        0.137854    0.12396               0.9618         0.968382                  \n",
      "\u001b[J5000        0.107914    0.130544              0.9703         0.965882                  \n",
      "\u001b[J5100        0.107214    0.145706              0.9691         0.965294                  \n",
      "\u001b[J5200        0.102305    0.126031              0.972          0.968088                  \n",
      "\u001b[J5300        0.115948    0.114932              0.9684         0.970588                  \n",
      "\u001b[J5400        0.100429    0.11859               0.9691         0.968824                  \n",
      "\u001b[J5500        0.102603    0.145023              0.9704         0.968971                  \n",
      "\u001b[J5600        0.110466    0.126787              0.9682         0.967794                  \n",
      "\u001b[J5700        0.0992886   0.122643              0.9729         0.970588                  \n",
      "\u001b[J5800        0.105214    0.128512              0.9731         0.97                      \n",
      "\u001b[J5900        0.120678    0.132209              0.9671         0.968382                  \n",
      "\u001b[J6000        0.114512    0.133943              0.9684         0.970147                  \n",
      "\u001b[J6100        0.110465    0.142698              0.9695         0.964118                  \n",
      "\u001b[J6200        0.113758    0.134889              0.969          0.967353                  \n",
      "\u001b[J6300        0.119207    0.11458               0.9678         0.968529                  \n",
      "\u001b[J6400        0.102072    0.118817              0.9718         0.970588                  \n",
      "\u001b[J6500        0.0929875   0.126592              0.9744         0.967353                  \n",
      "\u001b[J6600        0.0889291   0.122686              0.975          0.971765                  \n",
      "\u001b[J6700        0.109837    0.117733              0.9693         0.971618                  \n",
      "\u001b[J6800        0.101837    0.12736               0.9722         0.971029                  \n",
      "\u001b[J6900        0.102662    0.121824              0.9748         0.971912                  \n",
      "\u001b[J7000        0.115612    0.121412              0.9694         0.971471                  \n",
      "\u001b[J7100        0.0927321   0.131776              0.9748         0.971912                  \n",
      "\u001b[J7200        0.116816    0.145859              0.9694         0.969118                  \n",
      "\u001b[J7300        0.101754    0.134276              0.9729         0.968235                  \n",
      "\u001b[J7400        0.108117    0.151868              0.9716         0.969118                  \n",
      "\u001b[J7500        0.106075    0.137758              0.9723         0.969118                  \n",
      "\u001b[J7600        0.0968383   0.129914              0.9737         0.969706                  \n",
      "\u001b[J7700        0.0971092   0.131457              0.9744         0.969853                  \n",
      "\u001b[J7800        0.112298    0.129944              0.9708         0.970735                  \n",
      "\u001b[J7900        0.091786    0.130053              0.9747         0.971912                  \n",
      "\u001b[J8000        0.0974222   0.125548              0.974          0.971176                  \n",
      "\u001b[J8100        0.0936      0.144242              0.977          0.967794                  \n",
      "\u001b[J8200        0.114466    0.115507              0.9693         0.973529                  \n",
      "\u001b[J8300        0.107583    0.13147               0.9732         0.968824                  \n",
      "\u001b[J8400        0.0984065   0.139834              0.9744         0.970441                  \n",
      "\u001b[J8500        0.111404    0.156642              0.9721         0.971618                  \n",
      "\u001b[J8600        0.108056    0.146353              0.9724         0.970147                  \n",
      "\u001b[J8700        0.0984941   0.13757               0.9771         0.971765                  \n",
      "\u001b[J8800        0.103435    0.165044              0.9727         0.968088                  \n",
      "\u001b[J8900        0.101213    0.151712              0.9726         0.971324                  \n",
      "\u001b[J9000        0.100004    0.144301              0.9751         0.970882                  \n"
     ]
    },
    {
     "name": "stdout",
     "output_type": "stream",
     "text": [
      "\u001b[J9100        0.107273    0.130881              0.9746         0.970882                  \n",
      "\u001b[J9200        0.0965911   0.160778              0.9747         0.971176                  \n",
      "\u001b[J9300        0.118827    0.155647              0.9733         0.971471                  \n",
      "\u001b[J9400        0.0971114   0.145077              0.9757         0.972206                  \n",
      "\u001b[J9500        0.0906896   0.150794              0.9782         0.971618                  \n",
      "\u001b[J9600        0.102378    0.141707              0.9735         0.968824                  \n",
      "\u001b[J9700        0.108054    0.160371              0.974          0.968235                  \n",
      "\u001b[J9800        0.102288    0.134579              0.9768         0.972941                  \n",
      "\u001b[J9900        0.101081    0.194948              0.9756         0.969265                  \n"
     ]
    }
   ],
   "source": [
    "# 学習の実行\n",
    "model = Model()\n",
    "classifier = L.Classifier(model)\n",
    "optimizer = Adam()\n",
    "optimizer.setup(classifier)\n",
    "updater = StandardUpdater(train_iterator,optimizer,loss_func=classifier)\n",
    "trainer = Trainer(updater,(10000,'iteration'))\n",
    "trainer.extend(Evaluator(valid_iterator,classifier),trigger=(100,'iteration'))\n",
    "trainer.extend(PrintReport(['iteration','main/loss','validation/main/loss', 'main/accuracy', 'validation/main/accuracy']))\n",
    "logreport = LogReport(trigger=(100,'iteration'))\n",
    "trainer.extend(logreport)\n",
    "trainer.run()"
   ]
  },
  {
   "cell_type": "code",
   "execution_count": 144,
   "metadata": {},
   "outputs": [
    {
     "data": {
      "text/plain": [
       "<matplotlib.axes._subplots.AxesSubplot at 0x1112d0fd0>"
      ]
     },
     "execution_count": 144,
     "metadata": {},
     "output_type": "execute_result"
    },
    {
     "data": {
      "image/png": "[encoded data removed]",
      "text/plain": [
       "<matplotlib.figure.Figure at 0x111c6fe10>"
      ]
     },
     "metadata": {},
     "output_type": "display_data"
    }
   ],
   "source": [
    "log_df = pd.DataFrame(logreport.log)\n",
    "pd.DataFrame(log_df[[\"main/loss\", \"validation/main/loss\"]].values, columns=[\"main/loss\", \"validation/main/loss\"], index=log_df[\"iteration\"]).plot()"
   ]
  },
  {
   "cell_type": "code",
   "execution_count": 145,
   "metadata": {},
   "outputs": [
    {
     "data": {
      "text/plain": [
       "<matplotlib.axes._subplots.AxesSubplot at 0x11233fcc0>"
      ]
     },
     "execution_count": 145,
     "metadata": {},
     "output_type": "execute_result"
    },
    {
     "data": {
      "image/png": "[encoded data removed]",
      "text/plain": [
       "<matplotlib.figure.Figure at 0x1122382e8>"
      ]
     },
     "metadata": {},
     "output_type": "display_data"
    }
   ],
   "source": [
    "log_df = pd.DataFrame(logreport.log)\n",
    "pd.DataFrame(log_df[[ 'main/accuracy', 'validation/main/accuracy']].values, columns=[ 'main/accuracy', 'validation/main/accuracy'], index=log_df[\"iteration\"]).plot()"
   ]
  },
  {
   "cell_type": "code",
   "execution_count": 146,
   "metadata": {},
   "outputs": [],
   "source": [
    "# テストデータへモデルの当てはめ\n",
    "y = model(test)"
   ]
  },
  {
   "cell_type": "code",
   "execution_count": 147,
   "metadata": {},
   "outputs": [],
   "source": [
    "# 各出力で確率が高いものだけを抽出\n",
    "pred = np.argmax(y.data,axis=1)"
   ]
  },
  {
   "cell_type": "code",
   "execution_count": 148,
   "metadata": {},
   "outputs": [],
   "source": [
    "# 提出用にフォーマットを作成\n",
    "submissions = pd.DataFrame({\"ImageId\": list(range(1,len(pred)+1)),\"Label\":pred})"
   ]
  },
  {
   "cell_type": "code",
   "execution_count": 149,
   "metadata": {},
   "outputs": [],
   "source": [
    "# CSVへの書き出し\n",
    "submissions.to_csv(\"digit_cnn_output.csv\", index=False, header=True)"
   ]
  }
 ],
 "metadata": {
  "kernelspec": {
   "display_name": "Python 3",
   "language": "python",
   "name": "python3"
  },
  "language_info": {
   "codemirror_mode": {
    "name": "ipython",
    "version": 3
   },
   "file_extension": ".py",
   "mimetype": "text/x-python",
   "name": "python",
   "nbconvert_exporter": "python",
   "pygments_lexer": "ipython3",
   "version": "3.6.4"
  }
 },
 "nbformat": 4,
 "nbformat_minor": 2
}
