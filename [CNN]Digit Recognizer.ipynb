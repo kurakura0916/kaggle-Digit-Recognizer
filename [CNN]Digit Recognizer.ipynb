{
 "cells": [
  {
   "cell_type": "code",
   "execution_count": 78,
   "metadata": {},
   "outputs": [],
   "source": [
    "%matplotlib inline"
   ]
  },
  {
   "cell_type": "code",
   "execution_count": 79,
   "metadata": {},
   "outputs": [],
   "source": [
    "import numpy as np\n",
    "import pandas as pd\n",
    "import matplotlib.pyplot as plt\n",
    "import matplotlib.cm as cm"
   ]
  },
  {
   "cell_type": "code",
   "execution_count": 80,
   "metadata": {},
   "outputs": [],
   "source": [
    "from chainer import Chain,Variable\n",
    "import chainer\n",
    "import chainer.links as L\n",
    "import chainer.functions as F\n",
    "from chainer.datasets import split_dataset_random\n",
    "from chainer.datasets import TupleDataset\n",
    "from chainer.iterators import SerialIterator\n",
    "from chainer.training import StandardUpdater,Trainer\n",
    "from chainer.training.extensions import PrintReport,LogReport,Evaluator\n",
    "from sklearn.preprocessing import StandardScaler\n",
    "from chainer.datasets import TupleDataset\n",
    "from chainer.optimizers import Adam\n",
    "from sklearn.metrics import classification_report\n",
    "from chainer.dataset.convert import concat_examples"
   ]
  },
  {
   "cell_type": "code",
   "execution_count": 140,
   "metadata": {},
   "outputs": [],
   "source": [
    "train = pd.read_csv(\"data/train.csv\")\n",
    "test = pd.read_csv(\"data/test.csv\")"
   ]
  },
  {
   "cell_type": "code",
   "execution_count": 141,
   "metadata": {},
   "outputs": [
    {
     "data": {
      "text/html": [
       "<div>\n",
       "<style scoped>\n",
       "    .dataframe tbody tr th:only-of-type {\n",
       "        vertical-align: middle;\n",
       "    }\n",
       "\n",
       "    .dataframe tbody tr th {\n",
       "        vertical-align: top;\n",
       "    }\n",
       "\n",
       "    .dataframe thead th {\n",
       "        text-align: right;\n",
       "    }\n",
       "</style>\n",
       "<table border=\"1\" class=\"dataframe\">\n",
       "  <thead>\n",
       "    <tr style=\"text-align: right;\">\n",
       "      <th></th>\n",
       "      <th>label</th>\n",
       "      <th>pixel0</th>\n",
       "      <th>pixel1</th>\n",
       "      <th>pixel2</th>\n",
       "      <th>pixel3</th>\n",
       "      <th>pixel4</th>\n",
       "      <th>pixel5</th>\n",
       "      <th>pixel6</th>\n",
       "      <th>pixel7</th>\n",
       "      <th>pixel8</th>\n",
       "      <th>...</th>\n",
       "      <th>pixel774</th>\n",
       "      <th>pixel775</th>\n",
       "      <th>pixel776</th>\n",
       "      <th>pixel777</th>\n",
       "      <th>pixel778</th>\n",
       "      <th>pixel779</th>\n",
       "      <th>pixel780</th>\n",
       "      <th>pixel781</th>\n",
       "      <th>pixel782</th>\n",
       "      <th>pixel783</th>\n",
       "    </tr>\n",
       "  </thead>\n",
       "  <tbody>\n",
       "    <tr>\n",
       "      <th>0</th>\n",
       "      <td>1</td>\n",
       "      <td>0</td>\n",
       "      <td>0</td>\n",
       "      <td>0</td>\n",
       "      <td>0</td>\n",
       "      <td>0</td>\n",
       "      <td>0</td>\n",
       "      <td>0</td>\n",
       "      <td>0</td>\n",
       "      <td>0</td>\n",
       "      <td>...</td>\n",
       "      <td>0</td>\n",
       "      <td>0</td>\n",
       "      <td>0</td>\n",
       "      <td>0</td>\n",
       "      <td>0</td>\n",
       "      <td>0</td>\n",
       "      <td>0</td>\n",
       "      <td>0</td>\n",
       "      <td>0</td>\n",
       "      <td>0</td>\n",
       "    </tr>\n",
       "    <tr>\n",
       "      <th>1</th>\n",
       "      <td>0</td>\n",
       "      <td>0</td>\n",
       "      <td>0</td>\n",
       "      <td>0</td>\n",
       "      <td>0</td>\n",
       "      <td>0</td>\n",
       "      <td>0</td>\n",
       "      <td>0</td>\n",
       "      <td>0</td>\n",
       "      <td>0</td>\n",
       "      <td>...</td>\n",
       "      <td>0</td>\n",
       "      <td>0</td>\n",
       "      <td>0</td>\n",
       "      <td>0</td>\n",
       "      <td>0</td>\n",
       "      <td>0</td>\n",
       "      <td>0</td>\n",
       "      <td>0</td>\n",
       "      <td>0</td>\n",
       "      <td>0</td>\n",
       "    </tr>\n",
       "    <tr>\n",
       "      <th>2</th>\n",
       "      <td>1</td>\n",
       "      <td>0</td>\n",
       "      <td>0</td>\n",
       "      <td>0</td>\n",
       "      <td>0</td>\n",
       "      <td>0</td>\n",
       "      <td>0</td>\n",
       "      <td>0</td>\n",
       "      <td>0</td>\n",
       "      <td>0</td>\n",
       "      <td>...</td>\n",
       "      <td>0</td>\n",
       "      <td>0</td>\n",
       "      <td>0</td>\n",
       "      <td>0</td>\n",
       "      <td>0</td>\n",
       "      <td>0</td>\n",
       "      <td>0</td>\n",
       "      <td>0</td>\n",
       "      <td>0</td>\n",
       "      <td>0</td>\n",
       "    </tr>\n",
       "    <tr>\n",
       "      <th>3</th>\n",
       "      <td>4</td>\n",
       "      <td>0</td>\n",
       "      <td>0</td>\n",
       "      <td>0</td>\n",
       "      <td>0</td>\n",
       "      <td>0</td>\n",
       "      <td>0</td>\n",
       "      <td>0</td>\n",
       "      <td>0</td>\n",
       "      <td>0</td>\n",
       "      <td>...</td>\n",
       "      <td>0</td>\n",
       "      <td>0</td>\n",
       "      <td>0</td>\n",
       "      <td>0</td>\n",
       "      <td>0</td>\n",
       "      <td>0</td>\n",
       "      <td>0</td>\n",
       "      <td>0</td>\n",
       "      <td>0</td>\n",
       "      <td>0</td>\n",
       "    </tr>\n",
       "    <tr>\n",
       "      <th>4</th>\n",
       "      <td>0</td>\n",
       "      <td>0</td>\n",
       "      <td>0</td>\n",
       "      <td>0</td>\n",
       "      <td>0</td>\n",
       "      <td>0</td>\n",
       "      <td>0</td>\n",
       "      <td>0</td>\n",
       "      <td>0</td>\n",
       "      <td>0</td>\n",
       "      <td>...</td>\n",
       "      <td>0</td>\n",
       "      <td>0</td>\n",
       "      <td>0</td>\n",
       "      <td>0</td>\n",
       "      <td>0</td>\n",
       "      <td>0</td>\n",
       "      <td>0</td>\n",
       "      <td>0</td>\n",
       "      <td>0</td>\n",
       "      <td>0</td>\n",
       "    </tr>\n",
       "  </tbody>\n",
       "</table>\n",
       "<p>5 rows × 785 columns</p>\n",
       "</div>"
      ],
      "text/plain": [
       "   label  pixel0  pixel1  pixel2  pixel3  pixel4  pixel5  pixel6  pixel7  \\\n",
       "0      1       0       0       0       0       0       0       0       0   \n",
       "1      0       0       0       0       0       0       0       0       0   \n",
       "2      1       0       0       0       0       0       0       0       0   \n",
       "3      4       0       0       0       0       0       0       0       0   \n",
       "4      0       0       0       0       0       0       0       0       0   \n",
       "\n",
       "   pixel8    ...     pixel774  pixel775  pixel776  pixel777  pixel778  \\\n",
       "0       0    ...            0         0         0         0         0   \n",
       "1       0    ...            0         0         0         0         0   \n",
       "2       0    ...            0         0         0         0         0   \n",
       "3       0    ...            0         0         0         0         0   \n",
       "4       0    ...            0         0         0         0         0   \n",
       "\n",
       "   pixel779  pixel780  pixel781  pixel782  pixel783  \n",
       "0         0         0         0         0         0  \n",
       "1         0         0         0         0         0  \n",
       "2         0         0         0         0         0  \n",
       "3         0         0         0         0         0  \n",
       "4         0         0         0         0         0  \n",
       "\n",
       "[5 rows x 785 columns]"
      ]
     },
     "execution_count": 141,
     "metadata": {},
     "output_type": "execute_result"
    }
   ],
   "source": [
    "train.head()"
   ]
  },
  {
   "cell_type": "code",
   "execution_count": 142,
   "metadata": {},
   "outputs": [
    {
     "data": {
      "text/html": [
       "<div>\n",
       "<style scoped>\n",
       "    .dataframe tbody tr th:only-of-type {\n",
       "        vertical-align: middle;\n",
       "    }\n",
       "\n",
       "    .dataframe tbody tr th {\n",
       "        vertical-align: top;\n",
       "    }\n",
       "\n",
       "    .dataframe thead th {\n",
       "        text-align: right;\n",
       "    }\n",
       "</style>\n",
       "<table border=\"1\" class=\"dataframe\">\n",
       "  <thead>\n",
       "    <tr style=\"text-align: right;\">\n",
       "      <th></th>\n",
       "      <th>pixel0</th>\n",
       "      <th>pixel1</th>\n",
       "      <th>pixel2</th>\n",
       "      <th>pixel3</th>\n",
       "      <th>pixel4</th>\n",
       "      <th>pixel5</th>\n",
       "      <th>pixel6</th>\n",
       "      <th>pixel7</th>\n",
       "      <th>pixel8</th>\n",
       "      <th>pixel9</th>\n",
       "      <th>...</th>\n",
       "      <th>pixel774</th>\n",
       "      <th>pixel775</th>\n",
       "      <th>pixel776</th>\n",
       "      <th>pixel777</th>\n",
       "      <th>pixel778</th>\n",
       "      <th>pixel779</th>\n",
       "      <th>pixel780</th>\n",
       "      <th>pixel781</th>\n",
       "      <th>pixel782</th>\n",
       "      <th>pixel783</th>\n",
       "    </tr>\n",
       "  </thead>\n",
       "  <tbody>\n",
       "    <tr>\n",
       "      <th>0</th>\n",
       "      <td>0</td>\n",
       "      <td>0</td>\n",
       "      <td>0</td>\n",
       "      <td>0</td>\n",
       "      <td>0</td>\n",
       "      <td>0</td>\n",
       "      <td>0</td>\n",
       "      <td>0</td>\n",
       "      <td>0</td>\n",
       "      <td>0</td>\n",
       "      <td>...</td>\n",
       "      <td>0</td>\n",
       "      <td>0</td>\n",
       "      <td>0</td>\n",
       "      <td>0</td>\n",
       "      <td>0</td>\n",
       "      <td>0</td>\n",
       "      <td>0</td>\n",
       "      <td>0</td>\n",
       "      <td>0</td>\n",
       "      <td>0</td>\n",
       "    </tr>\n",
       "    <tr>\n",
       "      <th>1</th>\n",
       "      <td>0</td>\n",
       "      <td>0</td>\n",
       "      <td>0</td>\n",
       "      <td>0</td>\n",
       "      <td>0</td>\n",
       "      <td>0</td>\n",
       "      <td>0</td>\n",
       "      <td>0</td>\n",
       "      <td>0</td>\n",
       "      <td>0</td>\n",
       "      <td>...</td>\n",
       "      <td>0</td>\n",
       "      <td>0</td>\n",
       "      <td>0</td>\n",
       "      <td>0</td>\n",
       "      <td>0</td>\n",
       "      <td>0</td>\n",
       "      <td>0</td>\n",
       "      <td>0</td>\n",
       "      <td>0</td>\n",
       "      <td>0</td>\n",
       "    </tr>\n",
       "    <tr>\n",
       "      <th>2</th>\n",
       "      <td>0</td>\n",
       "      <td>0</td>\n",
       "      <td>0</td>\n",
       "      <td>0</td>\n",
       "      <td>0</td>\n",
       "      <td>0</td>\n",
       "      <td>0</td>\n",
       "      <td>0</td>\n",
       "      <td>0</td>\n",
       "      <td>0</td>\n",
       "      <td>...</td>\n",
       "      <td>0</td>\n",
       "      <td>0</td>\n",
       "      <td>0</td>\n",
       "      <td>0</td>\n",
       "      <td>0</td>\n",
       "      <td>0</td>\n",
       "      <td>0</td>\n",
       "      <td>0</td>\n",
       "      <td>0</td>\n",
       "      <td>0</td>\n",
       "    </tr>\n",
       "    <tr>\n",
       "      <th>3</th>\n",
       "      <td>0</td>\n",
       "      <td>0</td>\n",
       "      <td>0</td>\n",
       "      <td>0</td>\n",
       "      <td>0</td>\n",
       "      <td>0</td>\n",
       "      <td>0</td>\n",
       "      <td>0</td>\n",
       "      <td>0</td>\n",
       "      <td>0</td>\n",
       "      <td>...</td>\n",
       "      <td>0</td>\n",
       "      <td>0</td>\n",
       "      <td>0</td>\n",
       "      <td>0</td>\n",
       "      <td>0</td>\n",
       "      <td>0</td>\n",
       "      <td>0</td>\n",
       "      <td>0</td>\n",
       "      <td>0</td>\n",
       "      <td>0</td>\n",
       "    </tr>\n",
       "    <tr>\n",
       "      <th>4</th>\n",
       "      <td>0</td>\n",
       "      <td>0</td>\n",
       "      <td>0</td>\n",
       "      <td>0</td>\n",
       "      <td>0</td>\n",
       "      <td>0</td>\n",
       "      <td>0</td>\n",
       "      <td>0</td>\n",
       "      <td>0</td>\n",
       "      <td>0</td>\n",
       "      <td>...</td>\n",
       "      <td>0</td>\n",
       "      <td>0</td>\n",
       "      <td>0</td>\n",
       "      <td>0</td>\n",
       "      <td>0</td>\n",
       "      <td>0</td>\n",
       "      <td>0</td>\n",
       "      <td>0</td>\n",
       "      <td>0</td>\n",
       "      <td>0</td>\n",
       "    </tr>\n",
       "  </tbody>\n",
       "</table>\n",
       "<p>5 rows × 784 columns</p>\n",
       "</div>"
      ],
      "text/plain": [
       "   pixel0  pixel1  pixel2  pixel3  pixel4  pixel5  pixel6  pixel7  pixel8  \\\n",
       "0       0       0       0       0       0       0       0       0       0   \n",
       "1       0       0       0       0       0       0       0       0       0   \n",
       "2       0       0       0       0       0       0       0       0       0   \n",
       "3       0       0       0       0       0       0       0       0       0   \n",
       "4       0       0       0       0       0       0       0       0       0   \n",
       "\n",
       "   pixel9    ...     pixel774  pixel775  pixel776  pixel777  pixel778  \\\n",
       "0       0    ...            0         0         0         0         0   \n",
       "1       0    ...            0         0         0         0         0   \n",
       "2       0    ...            0         0         0         0         0   \n",
       "3       0    ...            0         0         0         0         0   \n",
       "4       0    ...            0         0         0         0         0   \n",
       "\n",
       "   pixel779  pixel780  pixel781  pixel782  pixel783  \n",
       "0         0         0         0         0         0  \n",
       "1         0         0         0         0         0  \n",
       "2         0         0         0         0         0  \n",
       "3         0         0         0         0         0  \n",
       "4         0         0         0         0         0  \n",
       "\n",
       "[5 rows x 784 columns]"
      ]
     },
     "execution_count": 142,
     "metadata": {},
     "output_type": "execute_result"
    }
   ],
   "source": [
    "test.head()"
   ]
  },
  {
   "cell_type": "code",
   "execution_count": 143,
   "metadata": {},
   "outputs": [],
   "source": [
    "# 入力データと正解データに分割\n",
    "train_x = train.iloc[:,1:].values.astype(np.float32)\n",
    "train_y = train.iloc[:,0].values.astype(np.int32)\n",
    "test_x = test.values.astype(np.float32)"
   ]
  },
  {
   "cell_type": "code",
   "execution_count": 144,
   "metadata": {},
   "outputs": [],
   "source": [
    "from sklearn.model_selection import train_test_split"
   ]
  },
  {
   "cell_type": "code",
   "execution_count": 145,
   "metadata": {},
   "outputs": [
    {
     "name": "stderr",
     "output_type": "stream",
     "text": [
      "/Users/hiroki.kurasawa/anaconda3/lib/python3.6/site-packages/sklearn/model_selection/_split.py:2026: FutureWarning: From version 0.21, test_size will always complement train_size unless both are specified.\n",
      "  FutureWarning)\n"
     ]
    }
   ],
   "source": [
    "# 訓練用データと検証用データに分割\n",
    "train_x, valid_x, train_y, valid_y = train_test_split(train_x, train_y, train_size=0.8, random_state=1)"
   ]
  },
  {
   "cell_type": "code",
   "execution_count": 146,
   "metadata": {},
   "outputs": [],
   "source": [
    "# CNN用にデータの持ち方を変換\n",
    "train_x = train_x.reshape((len(train_x),1,28,28))\n",
    "valid_x = valid_x.reshape((len(valid_x),1,28,28))\n",
    "test_x = test_x.reshape((len(test_x),1,28,28))"
   ]
  },
  {
   "cell_type": "code",
   "execution_count": 169,
   "metadata": {},
   "outputs": [
    {
     "data": {
      "text/plain": [
       "<matplotlib.image.AxesImage at 0x111bf57b8>"
      ]
     },
     "execution_count": 169,
     "metadata": {},
     "output_type": "execute_result"
    },
    {
     "data": {
      "image/png": "[encoded data removed]",
      "text/plain": [
       "<matplotlib.figure.Figure at 0x1144b9160>"
      ]
     },
     "metadata": {},
     "output_type": "display_data"
    }
   ],
   "source": [
    "plt.imshow(train_x[0][0],cmap=cm.gray_r,interpolation='nearest')"
   ]
  },
  {
   "cell_type": "code",
   "execution_count": 147,
   "metadata": {},
   "outputs": [],
   "source": [
    "train_x = train_x / 255\n",
    "valid_x = valid_x /255"
   ]
  },
  {
   "cell_type": "code",
   "execution_count": 148,
   "metadata": {},
   "outputs": [],
   "source": [
    "train_dataset = TupleDataset(train_x,train_y)\n",
    "valid_dataset = TupleDataset(valid_x,valid_y)"
   ]
  },
  {
   "cell_type": "code",
   "execution_count": 159,
   "metadata": {},
   "outputs": [],
   "source": [
    "#モデルの定義\n",
    "class CNN(chainer.Chain):\n",
    "    def __init__(self):\n",
    "        super(CNN,self).__init__()\n",
    "        with self.init_scope():\n",
    "            # 第1引数：入力チャネル数、第2引数：出力チャネル数、第3引数：フィルタサイズ\n",
    "            self.conv1 = L.Convolution2D(1,32,5)\n",
    "            self.conv2 = L.Convolution2D(32,64,5)\n",
    "            self.l1 = L.Linear(1024,10)\n",
    "    \n",
    "    def __call__(self,x):\n",
    "        h = F.max_pooling_2d(F.relu(self.conv1(x)),2)\n",
    "        h = F.max_pooling_2d(F.relu(self.conv2(h)),2)\n",
    "        return self.l1(h)"
   ]
  },
  {
   "cell_type": "code",
   "execution_count": 160,
   "metadata": {},
   "outputs": [],
   "source": [
    "# ミニバッチの作成\n",
    "train_iterator = SerialIterator(train_dataset,batch_size = 100 , repeat=True)\n",
    "valid_iterator = SerialIterator(valid_dataset,batch_size = 100 , shuffle=False,repeat=False)"
   ]
  },
  {
   "cell_type": "code",
   "execution_count": 161,
   "metadata": {},
   "outputs": [
    {
     "name": "stdout",
     "output_type": "stream",
     "text": [
      "iteration   main/loss   validation/main/loss  main/accuracy  validation/main/accuracy\n",
      "\u001b[J100         0.53438     0.183159              0.8427         0.945                     \n",
      "\u001b[J200         0.14776     0.10784               0.9558         0.968571                  \n",
      "\u001b[J300         0.111343    0.083681              0.9661         0.97631                   \n",
      "\u001b[J400         0.0814878   0.0774681             0.9755         0.97631                   \n",
      "\u001b[J500         0.0688886   0.0706979             0.9787         0.979286                  \n",
      "\u001b[J600         0.0645927   0.106686              0.979          0.967381                  \n",
      "\u001b[J700         0.0617424   0.0743642             0.9814         0.977738                  \n",
      "\u001b[J800         0.0492671   0.0625504             0.9851         0.981548                  \n",
      "\u001b[J900         0.0422555   0.0628705             0.9865         0.980476                  \n",
      "\u001b[J1000        0.042362    0.0520359             0.9867         0.984762                  \n",
      "\u001b[J1100        0.0403461   0.0494326             0.9866         0.985595                  \n",
      "\u001b[J1200        0.0314584   0.0520958             0.9896         0.984762                  \n",
      "\u001b[J1300        0.0352191   0.0476228             0.9895         0.985952                  \n",
      "\u001b[J1400        0.0290831   0.0525186             0.9912         0.984881                  \n",
      "\u001b[J1500        0.0289511   0.0492332             0.99           0.985595                  \n",
      "\u001b[J1600        0.0260952   0.0569737             0.9918         0.983571                  \n",
      "\u001b[J1700        0.0268913   0.047994              0.9918         0.985833                  \n",
      "\u001b[J1800        0.0181941   0.0502686             0.994          0.985357                  \n",
      "\u001b[J1900        0.0188122   0.0534881             0.9937         0.985238                  \n",
      "\u001b[J2000        0.0298612   0.0574604             0.9908         0.98381                   \n",
      "\u001b[J2100        0.0170552   0.0459002             0.9951         0.988214                  \n",
      "\u001b[J2200        0.0133631   0.0449484             0.9956         0.9875                    \n",
      "\u001b[J2300        0.0194985   0.0508328             0.9934         0.985476                  \n",
      "\u001b[J2400        0.0165219   0.0499348             0.9943         0.986548                  \n",
      "\u001b[J2500        0.0121551   0.0497868             0.997          0.986548                  \n",
      "\u001b[J2600        0.0125191   0.0443808             0.996          0.987738                  \n",
      "\u001b[J2700        0.0122212   0.0482528             0.9968         0.98631                   \n",
      "\u001b[J2800        0.0114384   0.0521352             0.9971         0.986071                  \n",
      "\u001b[J2900        0.0119818   0.0489347             0.9962         0.988214                  \n",
      "\u001b[J3000        0.0119166   0.045116              0.9968         0.9875                    \n",
      "\u001b[J3100        0.00729527  0.0543906             0.9981         0.984762                  \n",
      "\u001b[J3200        0.00776856  0.0569733             0.9982         0.985833                  \n",
      "\u001b[J3300        0.00989151  0.0531587             0.9967         0.986548                  \n",
      "\u001b[J3400        0.00666131  0.0584433             0.9982         0.98631                   \n",
      "\u001b[J3500        0.00960524  0.0614008             0.9965         0.985595                  \n",
      "\u001b[J3600        0.0082422   0.0659558             0.9977         0.984524                  \n",
      "\u001b[J3700        0.0107201   0.0500896             0.9957         0.9875                    \n",
      "\u001b[J3800        0.00763758  0.0555702             0.9981         0.985595                  \n",
      "\u001b[J3900        0.0062123   0.0510184             0.9977         0.987619                  \n",
      "\u001b[J4000        0.00885188  0.0580182             0.9974         0.986548                  \n",
      "\u001b[J4100        0.00538661  0.054932              0.9983         0.987024                  \n",
      "\u001b[J4200        0.00507688  0.0537365             0.9983         0.987262                  \n",
      "\u001b[J4300        0.00309989  0.0602955             0.9993         0.987381                  \n",
      "\u001b[J4400        0.00661935  0.0612445             0.9981         0.986667                  \n",
      "\u001b[J4500        0.0057855   0.0638573             0.998          0.986071                  \n",
      "\u001b[J4600        0.00407583  0.0520342             0.9988         0.987619                  \n",
      "\u001b[J4700        0.0046507   0.0611909             0.9986         0.98631                   \n",
      "\u001b[J4800        0.00402376  0.0597346             0.9989         0.98631                   \n",
      "\u001b[J4900        0.00210708  0.0489537             0.9995         0.989286                  \n",
      "\u001b[J5000        0.00425217  0.0498515             0.9985         0.987619                  \n",
      "\u001b[J5100        0.00858519  0.0516841             0.9974         0.986071                  \n",
      "\u001b[J5200        0.00409559  0.0502292             0.9988         0.98881                   \n",
      "\u001b[J5300        0.0043659   0.0680135             0.9985         0.984762                  \n",
      "\u001b[J5400        0.00563328  0.053336              0.9979         0.986905                  \n",
      "\u001b[J5500        0.00117335  0.0505234             0.9999         0.988571                  \n",
      "\u001b[J5600        0.00267233  0.0556514             0.9991         0.98869                   \n",
      "\u001b[J5700        0.00669657  0.0622662             0.9978         0.986786                  \n",
      "\u001b[J5800        0.0063446   0.0621439             0.9977         0.985595                  \n",
      "\u001b[J5900        0.00929471  0.0688519             0.9967         0.983929                  \n",
      "\u001b[J6000        0.00676163  0.0569594             0.9975         0.987024                  \n",
      "\u001b[J6100        0.00598737  0.0583756             0.9985         0.987024                  \n",
      "\u001b[J6200        0.00287789  0.0526786             0.999          0.988214                  \n",
      "\u001b[J6300        0.00130554  0.0554851             0.9997         0.98869                   \n",
      "\u001b[J6400        0.00774723  0.0863074             0.997          0.98369                   \n",
      "\u001b[J6500        0.0061964   0.0670937             0.9979         0.985714                  \n",
      "\u001b[J6600        0.00448215  0.06288               0.9984         0.987381                  \n",
      "\u001b[J6700        0.00380013  0.0648643             0.999          0.986548                  \n",
      "\u001b[J6800        0.0017258   0.0557552             0.9995         0.988452                  \n",
      "\u001b[J6900        0.00196547  0.056191              0.9995         0.987857                  \n",
      "\u001b[J7000        0.0016734   0.0558723             0.9996         0.988929                  \n",
      "\u001b[J7100        0.00138139  0.0607759             0.9995         0.988452                  \n",
      "\u001b[J7200        0.000585922  0.0587217             0.9998         0.989048                  \n",
      "\u001b[J7300        0.000411313  0.0634341             0.9999         0.988333                  \n",
      "\u001b[J7400        0.0011554   0.0635782             0.9998         0.9875                    \n",
      "\u001b[J7500        0.00136635  0.0569549             0.9996         0.988571                  \n",
      "\u001b[J7600        0.00100936  0.0588987             0.9996         0.988214                  \n",
      "\u001b[J7700        0.000730975  0.0652788             0.9999         0.989048                  \n",
      "\u001b[J7800        0.00340449  0.0769851             0.999          0.984405                  \n",
      "\u001b[J7900        0.00609219  0.0676318             0.9985         0.986905                  \n",
      "\u001b[J8000        0.00996418  0.0678181             0.997          0.98619                   \n",
      "\u001b[J8100        0.00875986  0.0640958             0.9968         0.986786                  \n",
      "\u001b[J8200        0.0056743   0.064135              0.9979         0.987262                  \n",
      "\u001b[J8300        0.00434007  0.0737848             0.9982         0.986548                  \n",
      "\u001b[J8400        0.00483378  0.0592296             0.9984         0.989048                  \n",
      "\u001b[J8500        0.000937912  0.0677671             0.9997         0.987143                  \n",
      "\u001b[J8600        0.00556593  0.0701235             0.9983         0.986429                  \n",
      "\u001b[J8700        0.0048402   0.0599227             0.9984         0.9875                    \n",
      "\u001b[J8800        0.00268805  0.0624912             0.999          0.988095                  \n",
      "\u001b[J8900        0.00075022  0.056665              0.9999         0.988333                  \n",
      "\u001b[J9000        0.00213493  0.0555952             0.9992         0.989167                  \n"
     ]
    },
    {
     "name": "stdout",
     "output_type": "stream",
     "text": [
      "\u001b[J9100        0.000534694  0.0536946             0.9999         0.989524                  \n",
      "\u001b[J9200        0.000353375  0.0533422             0.9999         0.989524                  \n",
      "\u001b[J9300        0.000862421  0.057705              0.9996         0.988452                  \n",
      "\u001b[J9400        0.00114964  0.0667655             0.9996         0.988571                  \n",
      "\u001b[J9500        0.00474549  0.0682361             0.998          0.987262                  \n",
      "\u001b[J9600        0.00102414  0.0578435             0.9999         0.987976                  \n",
      "\u001b[J9700        0.00133889  0.0588213             0.9996         0.98869                   \n",
      "\u001b[J9800        0.000941798  0.0575005             0.9998         0.99                      \n",
      "\u001b[J9900        0.000281865  0.0559568             1              0.989405                  \n"
     ]
    }
   ],
   "source": [
    "# 学習の実行\n",
    "model = CNN()\n",
    "classifier = L.Classifier(model)\n",
    "optimizer = Adam()\n",
    "optimizer.setup(classifier)\n",
    "updater = StandardUpdater(train_iterator,optimizer,loss_func=classifier)\n",
    "trainer = Trainer(updater,(10000,'iteration'))\n",
    "trainer.extend(Evaluator(valid_iterator,classifier),trigger=(100,'iteration'))\n",
    "trainer.extend(PrintReport(['iteration','main/loss','validation/main/loss', 'main/accuracy', 'validation/main/accuracy']))\n",
    "logreport = LogReport(trigger=(100,'iteration'))\n",
    "trainer.extend(logreport)\n",
    "trainer.run()"
   ]
  },
  {
   "cell_type": "code",
   "execution_count": 162,
   "metadata": {},
   "outputs": [
    {
     "data": {
      "text/plain": [
       "<matplotlib.axes._subplots.AxesSubplot at 0x111dcc320>"
      ]
     },
     "execution_count": 162,
     "metadata": {},
     "output_type": "execute_result"
    },
    {
     "data": {
      "image/png": "[encoded data removed]",
      "text/plain": [
       "<matplotlib.figure.Figure at 0x111dbebe0>"
      ]
     },
     "metadata": {},
     "output_type": "display_data"
    }
   ],
   "source": [
    "log_df = pd.DataFrame(logreport.log)\n",
    "pd.DataFrame(log_df[[\"main/loss\", \"validation/main/loss\"]].values, columns=[\"main/loss\", \"validation/main/loss\"], index=log_df[\"iteration\"]).plot()"
   ]
  },
  {
   "cell_type": "code",
   "execution_count": 163,
   "metadata": {},
   "outputs": [
    {
     "data": {
      "text/plain": [
       "<matplotlib.axes._subplots.AxesSubplot at 0x11427f828>"
      ]
     },
     "execution_count": 163,
     "metadata": {},
     "output_type": "execute_result"
    },
    {
     "data": {
      "image/png": "[encoded data removed]",
      "text/plain": [
       "<matplotlib.figure.Figure at 0x111f9ca58>"
      ]
     },
     "metadata": {},
     "output_type": "display_data"
    }
   ],
   "source": [
    "log_df = pd.DataFrame(logreport.log)\n",
    "pd.DataFrame(log_df[[ 'main/accuracy', 'validation/main/accuracy']].values, columns=[ 'main/accuracy', 'validation/main/accuracy'], index=log_df[\"iteration\"]).plot()"
   ]
  },
  {
   "cell_type": "code",
   "execution_count": 164,
   "metadata": {},
   "outputs": [],
   "source": [
    "y = model(test_x)"
   ]
  },
  {
   "cell_type": "code",
   "execution_count": 166,
   "metadata": {},
   "outputs": [],
   "source": [
    "pred = np.argmax(y.data,axis=1)"
   ]
  },
  {
   "cell_type": "code",
   "execution_count": 167,
   "metadata": {},
   "outputs": [],
   "source": [
    "# 提出用にフォーマットを作成\n",
    "submissions = pd.DataFrame({\"ImageId\": list(range(1,len(pred)+1)),\"Label\":pred})"
   ]
  },
  {
   "cell_type": "code",
   "execution_count": 168,
   "metadata": {},
   "outputs": [],
   "source": [
    "# CSVへの書き出し\n",
    "submissions.to_csv(\"digit_cnn_output_180720.csv\", index=False, header=True)"
   ]
  },
  {
   "cell_type": "code",
   "execution_count": null,
   "metadata": {},
   "outputs": [],
   "source": []
  }
 ],
 "metadata": {
  "kernelspec": {
   "display_name": "Python 3",
   "language": "python",
   "name": "python3"
  },
  "language_info": {
   "codemirror_mode": {
    "name": "ipython",
    "version": 3
   },
   "file_extension": ".py",
   "mimetype": "text/x-python",
   "name": "python",
   "nbconvert_exporter": "python",
   "pygments_lexer": "ipython3",
   "version": "3.6.4"
  }
 },
 "nbformat": 4,
 "nbformat_minor": 2
}
