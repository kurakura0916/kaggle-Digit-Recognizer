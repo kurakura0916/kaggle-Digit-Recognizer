{
 "cells": [
  {
   "cell_type": "code",
   "execution_count": 172,
   "metadata": {},
   "outputs": [],
   "source": [
    "%matplotlib inline"
   ]
  },
  {
   "cell_type": "code",
   "execution_count": 173,
   "metadata": {},
   "outputs": [],
   "source": [
    "import numpy as np\n",
    "import pandas as pd\n",
    "import matplotlib.pyplot as plt\n",
    "import matplotlib.cm as cm"
   ]
  },
  {
   "cell_type": "code",
   "execution_count": 174,
   "metadata": {},
   "outputs": [],
   "source": [
    "from chainer import Chain,Variable\n",
    "import chainer\n",
    "import chainer.links as L\n",
    "import chainer.functions as F\n",
    "from chainer.datasets import split_dataset_random\n",
    "from chainer.datasets import TupleDataset\n",
    "from chainer.iterators import SerialIterator\n",
    "from chainer.training import StandardUpdater,Trainer\n",
    "from chainer.training.extensions import PrintReport,LogReport,Evaluator\n",
    "from sklearn.preprocessing import StandardScaler\n",
    "from chainer.datasets import TupleDataset\n",
    "from chainer.optimizers import Adam\n",
    "from sklearn.metrics import classification_report\n",
    "from chainer.dataset.convert import concat_examples"
   ]
  },
  {
   "cell_type": "code",
   "execution_count": 175,
   "metadata": {},
   "outputs": [],
   "source": [
    "train = pd.read_csv(\"data/train.csv\")\n",
    "test = pd.read_csv(\"data/test.csv\")"
   ]
  },
  {
   "cell_type": "code",
   "execution_count": 176,
   "metadata": {},
   "outputs": [
    {
     "data": {
      "text/html": [
       "<div>\n",
       "<style scoped>\n",
       "    .dataframe tbody tr th:only-of-type {\n",
       "        vertical-align: middle;\n",
       "    }\n",
       "\n",
       "    .dataframe tbody tr th {\n",
       "        vertical-align: top;\n",
       "    }\n",
       "\n",
       "    .dataframe thead th {\n",
       "        text-align: right;\n",
       "    }\n",
       "</style>\n",
       "<table border=\"1\" class=\"dataframe\">\n",
       "  <thead>\n",
       "    <tr style=\"text-align: right;\">\n",
       "      <th></th>\n",
       "      <th>label</th>\n",
       "      <th>pixel0</th>\n",
       "      <th>pixel1</th>\n",
       "      <th>pixel2</th>\n",
       "      <th>pixel3</th>\n",
       "      <th>pixel4</th>\n",
       "      <th>pixel5</th>\n",
       "      <th>pixel6</th>\n",
       "      <th>pixel7</th>\n",
       "      <th>pixel8</th>\n",
       "      <th>...</th>\n",
       "      <th>pixel774</th>\n",
       "      <th>pixel775</th>\n",
       "      <th>pixel776</th>\n",
       "      <th>pixel777</th>\n",
       "      <th>pixel778</th>\n",
       "      <th>pixel779</th>\n",
       "      <th>pixel780</th>\n",
       "      <th>pixel781</th>\n",
       "      <th>pixel782</th>\n",
       "      <th>pixel783</th>\n",
       "    </tr>\n",
       "  </thead>\n",
       "  <tbody>\n",
       "    <tr>\n",
       "      <th>0</th>\n",
       "      <td>1</td>\n",
       "      <td>0</td>\n",
       "      <td>0</td>\n",
       "      <td>0</td>\n",
       "      <td>0</td>\n",
       "      <td>0</td>\n",
       "      <td>0</td>\n",
       "      <td>0</td>\n",
       "      <td>0</td>\n",
       "      <td>0</td>\n",
       "      <td>...</td>\n",
       "      <td>0</td>\n",
       "      <td>0</td>\n",
       "      <td>0</td>\n",
       "      <td>0</td>\n",
       "      <td>0</td>\n",
       "      <td>0</td>\n",
       "      <td>0</td>\n",
       "      <td>0</td>\n",
       "      <td>0</td>\n",
       "      <td>0</td>\n",
       "    </tr>\n",
       "    <tr>\n",
       "      <th>1</th>\n",
       "      <td>0</td>\n",
       "      <td>0</td>\n",
       "      <td>0</td>\n",
       "      <td>0</td>\n",
       "      <td>0</td>\n",
       "      <td>0</td>\n",
       "      <td>0</td>\n",
       "      <td>0</td>\n",
       "      <td>0</td>\n",
       "      <td>0</td>\n",
       "      <td>...</td>\n",
       "      <td>0</td>\n",
       "      <td>0</td>\n",
       "      <td>0</td>\n",
       "      <td>0</td>\n",
       "      <td>0</td>\n",
       "      <td>0</td>\n",
       "      <td>0</td>\n",
       "      <td>0</td>\n",
       "      <td>0</td>\n",
       "      <td>0</td>\n",
       "    </tr>\n",
       "    <tr>\n",
       "      <th>2</th>\n",
       "      <td>1</td>\n",
       "      <td>0</td>\n",
       "      <td>0</td>\n",
       "      <td>0</td>\n",
       "      <td>0</td>\n",
       "      <td>0</td>\n",
       "      <td>0</td>\n",
       "      <td>0</td>\n",
       "      <td>0</td>\n",
       "      <td>0</td>\n",
       "      <td>...</td>\n",
       "      <td>0</td>\n",
       "      <td>0</td>\n",
       "      <td>0</td>\n",
       "      <td>0</td>\n",
       "      <td>0</td>\n",
       "      <td>0</td>\n",
       "      <td>0</td>\n",
       "      <td>0</td>\n",
       "      <td>0</td>\n",
       "      <td>0</td>\n",
       "    </tr>\n",
       "    <tr>\n",
       "      <th>3</th>\n",
       "      <td>4</td>\n",
       "      <td>0</td>\n",
       "      <td>0</td>\n",
       "      <td>0</td>\n",
       "      <td>0</td>\n",
       "      <td>0</td>\n",
       "      <td>0</td>\n",
       "      <td>0</td>\n",
       "      <td>0</td>\n",
       "      <td>0</td>\n",
       "      <td>...</td>\n",
       "      <td>0</td>\n",
       "      <td>0</td>\n",
       "      <td>0</td>\n",
       "      <td>0</td>\n",
       "      <td>0</td>\n",
       "      <td>0</td>\n",
       "      <td>0</td>\n",
       "      <td>0</td>\n",
       "      <td>0</td>\n",
       "      <td>0</td>\n",
       "    </tr>\n",
       "    <tr>\n",
       "      <th>4</th>\n",
       "      <td>0</td>\n",
       "      <td>0</td>\n",
       "      <td>0</td>\n",
       "      <td>0</td>\n",
       "      <td>0</td>\n",
       "      <td>0</td>\n",
       "      <td>0</td>\n",
       "      <td>0</td>\n",
       "      <td>0</td>\n",
       "      <td>0</td>\n",
       "      <td>...</td>\n",
       "      <td>0</td>\n",
       "      <td>0</td>\n",
       "      <td>0</td>\n",
       "      <td>0</td>\n",
       "      <td>0</td>\n",
       "      <td>0</td>\n",
       "      <td>0</td>\n",
       "      <td>0</td>\n",
       "      <td>0</td>\n",
       "      <td>0</td>\n",
       "    </tr>\n",
       "  </tbody>\n",
       "</table>\n",
       "<p>5 rows × 785 columns</p>\n",
       "</div>"
      ],
      "text/plain": [
       "   label  pixel0  pixel1  pixel2  pixel3  pixel4  pixel5  pixel6  pixel7  \\\n",
       "0      1       0       0       0       0       0       0       0       0   \n",
       "1      0       0       0       0       0       0       0       0       0   \n",
       "2      1       0       0       0       0       0       0       0       0   \n",
       "3      4       0       0       0       0       0       0       0       0   \n",
       "4      0       0       0       0       0       0       0       0       0   \n",
       "\n",
       "   pixel8    ...     pixel774  pixel775  pixel776  pixel777  pixel778  \\\n",
       "0       0    ...            0         0         0         0         0   \n",
       "1       0    ...            0         0         0         0         0   \n",
       "2       0    ...            0         0         0         0         0   \n",
       "3       0    ...            0         0         0         0         0   \n",
       "4       0    ...            0         0         0         0         0   \n",
       "\n",
       "   pixel779  pixel780  pixel781  pixel782  pixel783  \n",
       "0         0         0         0         0         0  \n",
       "1         0         0         0         0         0  \n",
       "2         0         0         0         0         0  \n",
       "3         0         0         0         0         0  \n",
       "4         0         0         0         0         0  \n",
       "\n",
       "[5 rows x 785 columns]"
      ]
     },
     "execution_count": 176,
     "metadata": {},
     "output_type": "execute_result"
    }
   ],
   "source": [
    "train.head()"
   ]
  },
  {
   "cell_type": "code",
   "execution_count": 177,
   "metadata": {},
   "outputs": [
    {
     "data": {
      "text/html": [
       "<div>\n",
       "<style scoped>\n",
       "    .dataframe tbody tr th:only-of-type {\n",
       "        vertical-align: middle;\n",
       "    }\n",
       "\n",
       "    .dataframe tbody tr th {\n",
       "        vertical-align: top;\n",
       "    }\n",
       "\n",
       "    .dataframe thead th {\n",
       "        text-align: right;\n",
       "    }\n",
       "</style>\n",
       "<table border=\"1\" class=\"dataframe\">\n",
       "  <thead>\n",
       "    <tr style=\"text-align: right;\">\n",
       "      <th></th>\n",
       "      <th>pixel0</th>\n",
       "      <th>pixel1</th>\n",
       "      <th>pixel2</th>\n",
       "      <th>pixel3</th>\n",
       "      <th>pixel4</th>\n",
       "      <th>pixel5</th>\n",
       "      <th>pixel6</th>\n",
       "      <th>pixel7</th>\n",
       "      <th>pixel8</th>\n",
       "      <th>pixel9</th>\n",
       "      <th>...</th>\n",
       "      <th>pixel774</th>\n",
       "      <th>pixel775</th>\n",
       "      <th>pixel776</th>\n",
       "      <th>pixel777</th>\n",
       "      <th>pixel778</th>\n",
       "      <th>pixel779</th>\n",
       "      <th>pixel780</th>\n",
       "      <th>pixel781</th>\n",
       "      <th>pixel782</th>\n",
       "      <th>pixel783</th>\n",
       "    </tr>\n",
       "  </thead>\n",
       "  <tbody>\n",
       "    <tr>\n",
       "      <th>0</th>\n",
       "      <td>0</td>\n",
       "      <td>0</td>\n",
       "      <td>0</td>\n",
       "      <td>0</td>\n",
       "      <td>0</td>\n",
       "      <td>0</td>\n",
       "      <td>0</td>\n",
       "      <td>0</td>\n",
       "      <td>0</td>\n",
       "      <td>0</td>\n",
       "      <td>...</td>\n",
       "      <td>0</td>\n",
       "      <td>0</td>\n",
       "      <td>0</td>\n",
       "      <td>0</td>\n",
       "      <td>0</td>\n",
       "      <td>0</td>\n",
       "      <td>0</td>\n",
       "      <td>0</td>\n",
       "      <td>0</td>\n",
       "      <td>0</td>\n",
       "    </tr>\n",
       "    <tr>\n",
       "      <th>1</th>\n",
       "      <td>0</td>\n",
       "      <td>0</td>\n",
       "      <td>0</td>\n",
       "      <td>0</td>\n",
       "      <td>0</td>\n",
       "      <td>0</td>\n",
       "      <td>0</td>\n",
       "      <td>0</td>\n",
       "      <td>0</td>\n",
       "      <td>0</td>\n",
       "      <td>...</td>\n",
       "      <td>0</td>\n",
       "      <td>0</td>\n",
       "      <td>0</td>\n",
       "      <td>0</td>\n",
       "      <td>0</td>\n",
       "      <td>0</td>\n",
       "      <td>0</td>\n",
       "      <td>0</td>\n",
       "      <td>0</td>\n",
       "      <td>0</td>\n",
       "    </tr>\n",
       "    <tr>\n",
       "      <th>2</th>\n",
       "      <td>0</td>\n",
       "      <td>0</td>\n",
       "      <td>0</td>\n",
       "      <td>0</td>\n",
       "      <td>0</td>\n",
       "      <td>0</td>\n",
       "      <td>0</td>\n",
       "      <td>0</td>\n",
       "      <td>0</td>\n",
       "      <td>0</td>\n",
       "      <td>...</td>\n",
       "      <td>0</td>\n",
       "      <td>0</td>\n",
       "      <td>0</td>\n",
       "      <td>0</td>\n",
       "      <td>0</td>\n",
       "      <td>0</td>\n",
       "      <td>0</td>\n",
       "      <td>0</td>\n",
       "      <td>0</td>\n",
       "      <td>0</td>\n",
       "    </tr>\n",
       "    <tr>\n",
       "      <th>3</th>\n",
       "      <td>0</td>\n",
       "      <td>0</td>\n",
       "      <td>0</td>\n",
       "      <td>0</td>\n",
       "      <td>0</td>\n",
       "      <td>0</td>\n",
       "      <td>0</td>\n",
       "      <td>0</td>\n",
       "      <td>0</td>\n",
       "      <td>0</td>\n",
       "      <td>...</td>\n",
       "      <td>0</td>\n",
       "      <td>0</td>\n",
       "      <td>0</td>\n",
       "      <td>0</td>\n",
       "      <td>0</td>\n",
       "      <td>0</td>\n",
       "      <td>0</td>\n",
       "      <td>0</td>\n",
       "      <td>0</td>\n",
       "      <td>0</td>\n",
       "    </tr>\n",
       "    <tr>\n",
       "      <th>4</th>\n",
       "      <td>0</td>\n",
       "      <td>0</td>\n",
       "      <td>0</td>\n",
       "      <td>0</td>\n",
       "      <td>0</td>\n",
       "      <td>0</td>\n",
       "      <td>0</td>\n",
       "      <td>0</td>\n",
       "      <td>0</td>\n",
       "      <td>0</td>\n",
       "      <td>...</td>\n",
       "      <td>0</td>\n",
       "      <td>0</td>\n",
       "      <td>0</td>\n",
       "      <td>0</td>\n",
       "      <td>0</td>\n",
       "      <td>0</td>\n",
       "      <td>0</td>\n",
       "      <td>0</td>\n",
       "      <td>0</td>\n",
       "      <td>0</td>\n",
       "    </tr>\n",
       "  </tbody>\n",
       "</table>\n",
       "<p>5 rows × 784 columns</p>\n",
       "</div>"
      ],
      "text/plain": [
       "   pixel0  pixel1  pixel2  pixel3  pixel4  pixel5  pixel6  pixel7  pixel8  \\\n",
       "0       0       0       0       0       0       0       0       0       0   \n",
       "1       0       0       0       0       0       0       0       0       0   \n",
       "2       0       0       0       0       0       0       0       0       0   \n",
       "3       0       0       0       0       0       0       0       0       0   \n",
       "4       0       0       0       0       0       0       0       0       0   \n",
       "\n",
       "   pixel9    ...     pixel774  pixel775  pixel776  pixel777  pixel778  \\\n",
       "0       0    ...            0         0         0         0         0   \n",
       "1       0    ...            0         0         0         0         0   \n",
       "2       0    ...            0         0         0         0         0   \n",
       "3       0    ...            0         0         0         0         0   \n",
       "4       0    ...            0         0         0         0         0   \n",
       "\n",
       "   pixel779  pixel780  pixel781  pixel782  pixel783  \n",
       "0         0         0         0         0         0  \n",
       "1         0         0         0         0         0  \n",
       "2         0         0         0         0         0  \n",
       "3         0         0         0         0         0  \n",
       "4         0         0         0         0         0  \n",
       "\n",
       "[5 rows x 784 columns]"
      ]
     },
     "execution_count": 177,
     "metadata": {},
     "output_type": "execute_result"
    }
   ],
   "source": [
    "test.head()"
   ]
  },
  {
   "cell_type": "code",
   "execution_count": 178,
   "metadata": {},
   "outputs": [],
   "source": [
    "# 入力データと正解データに分割\n",
    "train_x = train.iloc[:,1:].values.astype(np.float32)\n",
    "train_y = train.iloc[:,0].values.astype(np.int32)\n",
    "test_x = test.values.astype(np.float32)"
   ]
  },
  {
   "cell_type": "code",
   "execution_count": 179,
   "metadata": {},
   "outputs": [],
   "source": [
    "from sklearn.model_selection import train_test_split"
   ]
  },
  {
   "cell_type": "code",
   "execution_count": 180,
   "metadata": {},
   "outputs": [
    {
     "name": "stderr",
     "output_type": "stream",
     "text": [
      "/Users/hiroki.kurasawa/anaconda3/lib/python3.6/site-packages/sklearn/model_selection/_split.py:2026: FutureWarning: From version 0.21, test_size will always complement train_size unless both are specified.\n",
      "  FutureWarning)\n"
     ]
    }
   ],
   "source": [
    "# 訓練用データと検証用データに分割\n",
    "train_x, valid_x, train_y, valid_y = train_test_split(train_x, train_y, train_size=0.8, random_state=1)"
   ]
  },
  {
   "cell_type": "code",
   "execution_count": 181,
   "metadata": {},
   "outputs": [],
   "source": [
    "# CNN用にデータの持ち方を変換\n",
    "train_x = train_x.reshape((len(train_x),1,28,28))\n",
    "valid_x = valid_x.reshape((len(valid_x),1,28,28))\n",
    "test_x = test_x.reshape((len(test_x),1,28,28))"
   ]
  },
  {
   "cell_type": "code",
   "execution_count": 182,
   "metadata": {},
   "outputs": [
    {
     "data": {
      "text/plain": [
       "<matplotlib.image.AxesImage at 0x114ba25c0>"
      ]
     },
     "execution_count": 182,
     "metadata": {},
     "output_type": "execute_result"
    },
    {
     "data": {
      "image/png": "[encoded data removed]",
      "text/plain": [
       "<matplotlib.figure.Figure at 0x11007f080>"
      ]
     },
     "metadata": {},
     "output_type": "display_data"
    }
   ],
   "source": [
    "plt.imshow(train_x[0][0],cmap=cm.gray_r,interpolation='nearest')"
   ]
  },
  {
   "cell_type": "code",
   "execution_count": 183,
   "metadata": {},
   "outputs": [],
   "source": [
    "train_x = train_x / 255\n",
    "valid_x = valid_x /255"
   ]
  },
  {
   "cell_type": "code",
   "execution_count": 184,
   "metadata": {},
   "outputs": [],
   "source": [
    "train_dataset = TupleDataset(train_x,train_y)\n",
    "valid_dataset = TupleDataset(valid_x,valid_y)"
   ]
  },
  {
   "cell_type": "code",
   "execution_count": 226,
   "metadata": {},
   "outputs": [],
   "source": [
    "#モデルの定義\n",
    "class CNN(chainer.Chain):\n",
    "    def __init__(self):\n",
    "        super(CNN,self).__init__()\n",
    "        with self.init_scope():\n",
    "            # 第1引数：入力チャネル数、第2引数：出力チャネル数、第3引数：フィルタサイズ\n",
    "            self.conv1 = L.Convolution2D(1,32,5)\n",
    "            self.batch1 = L.BatchNormalization(32)\n",
    "            self.conv2 = L.Convolution2D(32,64,5)\n",
    "            self.batch2 = L.BatchNormalization(64)\n",
    "            self.l1 = L.Linear(1024,10)\n",
    "    \n",
    "    def __call__(self,x):\n",
    "        h = F.max_pooling_2d(F.relu(self.conv1(x)),2)\n",
    "        h = self.batch1(h)\n",
    "        h = F.max_pooling_2d(F.relu(self.conv2(h)),2)\n",
    "        h = self.batch2(h)\n",
    "        h = F.dropout(h,ratio=0.5)\n",
    "        return self.l1(h)"
   ]
  },
  {
   "cell_type": "code",
   "execution_count": 214,
   "metadata": {},
   "outputs": [],
   "source": [
    "# AlexNetモデルの定義\n",
    "class AlexNet(chainer.Chain):\n",
    "    def __init__(self):\n",
    "        super(AlexNet,self).__init__()\n",
    "        with self.init_scope():\n",
    "            self.conv1 = L.Convolution2D(1,96,11,stride=4)\n",
    "            self.batch1 = L.BatchNormalization(96)\n",
    "            \n",
    "            self.conv2 = L.Convolution2D(96,256,5,pad=2)\n",
    "            self.batch2 = L.BatchNormalization(256)\n",
    "            \n",
    "            self.conv3 = L.Convolution2D(256,384,3,pad=1)\n",
    "            self.conv4 = L.Convolution2D(384,384,3,pad=1)\n",
    "            self.conv5 = L.Convolution2D(384,256,3,pad=1)\n",
    "            \n",
    "            self.fc1 = L.Linear(4096)\n",
    "            self.fc2 = L.Linear(4096)\n",
    "            self.fc3 = L.Linear(10)\n",
    "        \n",
    "    def __call__(self,x):\n",
    "        h = F.max_pooling_2d(self.batch1(F.relu(self.conv1(x))),3,stride=2)\n",
    "        h = F.max_pooling_2d(self.batch2(F.relu(self.conv2(h))),3,stride=2)\n",
    "        h = F.relu(self.conv3(h))\n",
    "        h = F.relu(self.conv4(h))\n",
    "        h = F.max_pooling_2d(F.relu(self.conv5(h)),2,stride=2)\n",
    "        h = F.relu(self.fc1(h))\n",
    "        h = F.dropout(h,ratio=0.5)\n",
    "        h = F.relu(self.fc2(h))\n",
    "        h = F.dropout(h,ratio=0.5)\n",
    "        return self.fc3(h)"
   ]
  },
  {
   "cell_type": "code",
   "execution_count": 227,
   "metadata": {},
   "outputs": [],
   "source": [
    "# ミニバッチの作成\n",
    "train_iterator = SerialIterator(train_dataset,batch_size = 100 , repeat=True)\n",
    "valid_iterator = SerialIterator(valid_dataset,batch_size = 100 , shuffle=False,repeat=False)"
   ]
  },
  {
   "cell_type": "code",
   "execution_count": 228,
   "metadata": {},
   "outputs": [
    {
     "name": "stdout",
     "output_type": "stream",
     "text": [
      "iteration   main/loss   validation/main/loss  main/accuracy  validation/main/accuracy\n",
      "\u001b[J100         0.421776    0.131056              0.866          0.961429                  \n",
      "\u001b[J200         0.148087    0.086422              0.9552         0.974524                  \n",
      "\u001b[J300         0.112457    0.0735457             0.965          0.977976                  \n",
      "\u001b[J400         0.0877891   0.0626412             0.9729         0.980952                  \n",
      "\u001b[J500         0.0737421   0.0570551             0.9761         0.983214                  \n",
      "\u001b[J600         0.0706701   0.0557043             0.9773         0.982976                  \n",
      "\u001b[J700         0.0606199   0.0524254             0.9818         0.985119                  \n",
      "\u001b[J800         0.0499878   0.0525838             0.9833         0.984286                  \n",
      "\u001b[J900         0.0498422   0.0497728             0.9845         0.985119                  \n",
      "\u001b[J1000        0.0518507   0.0466805             0.9824         0.985119                  \n",
      "\u001b[J1100        0.0472263   0.0501767             0.9853         0.985714                  \n",
      "\u001b[J1200        0.0417014   0.0450194             0.986          0.986548                  \n",
      "\u001b[J1300        0.0468629   0.0482152             0.9856         0.985                     \n",
      "\u001b[J1400        0.0393852   0.0421202             0.9872         0.989167                  \n",
      "\u001b[J1500        0.0355471   0.0408313             0.988          0.987738                  \n",
      "\u001b[J1600        0.033157    0.0397141             0.9873         0.988333                  \n",
      "\u001b[J1700        0.0357245   0.0411148             0.9882         0.987262                  \n",
      "\u001b[J1800        0.0345047   0.0421908             0.9885         0.986429                  \n",
      "\u001b[J1900        0.0336593   0.0384343             0.9892         0.989167                  \n",
      "\u001b[J2000        0.0281562   0.0423431             0.9912         0.988929                  \n",
      "\u001b[J2100        0.0253449   0.0365724             0.9912         0.989643                  \n",
      "\u001b[J2200        0.0272081   0.0406536             0.9902         0.988333                  \n",
      "\u001b[J2300        0.0294916   0.0466019             0.9899         0.987857                  \n",
      "\u001b[J2400        0.0241915   0.041369              0.9913         0.988333                  \n",
      "\u001b[J2500        0.0255799   0.0415872             0.9914         0.989048                  \n",
      "\u001b[J2600        0.0255815   0.0432262             0.9912         0.988452                  \n",
      "\u001b[J2700        0.0259103   0.0410906             0.9908         0.98881                   \n",
      "\u001b[J2800        0.0250805   0.0380612             0.9925         0.989881                  \n",
      "\u001b[J2900        0.0218753   0.0402349             0.992          0.988333                  \n",
      "\u001b[J3000        0.0201245   0.0378419             0.9941         0.988929                  \n",
      "\u001b[J3100        0.0188928   0.0433046             0.9935         0.988095                  \n",
      "\u001b[J3200        0.0177731   0.0384621             0.994          0.990238                  \n",
      "\u001b[J3300        0.0228542   0.0444835             0.9918         0.988214                  \n",
      "\u001b[J3400        0.0250989   0.0424669             0.9917         0.987738                  \n",
      "\u001b[J3500        0.0190001   0.0376042             0.9931         0.989762                  \n",
      "\u001b[J3600        0.0188791   0.0402523             0.994          0.988452                  \n",
      "\u001b[J3700        0.0204143   0.04117               0.9931         0.989286                  \n",
      "\u001b[J3800        0.0187609   0.0387375             0.9927         0.98881                   \n",
      "\u001b[J3900        0.0176598   0.0372273             0.9938         0.990595                  \n",
      "\u001b[J4000        0.0195689   0.0374921             0.9936         0.990833                  \n",
      "\u001b[J4100        0.0137279   0.0417528             0.9954         0.989167                  \n",
      "\u001b[J4200        0.0137988   0.0437523             0.9954         0.98869                   \n",
      "\u001b[J4300        0.0165414   0.0442695             0.9935         0.989881                  \n",
      "\u001b[J4400        0.0196312   0.0389715             0.9934         0.99                      \n",
      "\u001b[J4500        0.015545    0.0416492             0.9949         0.989167                  \n",
      "\u001b[J4600        0.0203527   0.0438174             0.993          0.989881                  \n",
      "\u001b[J4700        0.0186554   0.0414071             0.9933         0.989524                  \n",
      "\u001b[J4800        0.0143405   0.0380491             0.9949         0.990238                  \n",
      "\u001b[J4900        0.0145429   0.0414797             0.9949         0.990595                  \n",
      "\u001b[J5000        0.0151291   0.042261              0.9947         0.990952                  \n",
      "\u001b[J5100        0.0179158   0.0426535             0.9935         0.989524                  \n",
      "\u001b[J5200        0.0131346   0.0467287             0.9952         0.989048                  \n",
      "\u001b[J5300        0.0159764   0.0437806             0.9948         0.990952                  \n",
      "\u001b[J5400        0.0161884   0.0471409             0.9942         0.989167                  \n",
      "\u001b[J5500        0.0160004   0.0428415             0.9938         0.990238                  \n",
      "\u001b[J5600        0.0139046   0.0394273             0.9948         0.992024                  \n",
      "\u001b[J5700        0.0145693   0.044388              0.9945         0.990357                  \n",
      "\u001b[J5800        0.0122096   0.0455247             0.9964         0.989048                  \n",
      "\u001b[J5900        0.0110129   0.0457887             0.9962         0.989762                  \n",
      "\u001b[J6000        0.00995679  0.0494034             0.9966         0.988095                  \n",
      "\u001b[J6100        0.0108812   0.0426224             0.9966         0.99131                   \n",
      "\u001b[J6200        0.00928738  0.0453449             0.9968         0.989762                  \n",
      "\u001b[J6300        0.0095087   0.0485413             0.9971         0.990119                  \n",
      "\u001b[J6400        0.0135494   0.040733              0.9958         0.990833                  \n",
      "\u001b[J6500        0.0111307   0.0503825             0.9959         0.988929                  \n",
      "\u001b[J6600        0.013935    0.0520548             0.9952         0.989405                  \n",
      "\u001b[J6700        0.0110856   0.0488393             0.9971         0.988929                  \n",
      "\u001b[J6800        0.0140601   0.041973              0.9959         0.989643                  \n",
      "\u001b[J6900        0.0128328   0.0469165             0.9956         0.989405                  \n",
      "\u001b[J7000        0.010866    0.0453387             0.9963         0.989524                  \n",
      "\u001b[J7100        0.0160869   0.0451238             0.9952         0.989643                  \n",
      "\u001b[J7200        0.00812126  0.0407293             0.9971         0.990357                  \n",
      "\u001b[J7300        0.00959388  0.0466567             0.996          0.990119                  \n",
      "\u001b[J7400        0.0111423   0.0426266             0.9958         0.990952                  \n",
      "\u001b[J7500        0.00902708  0.0475468             0.9964         0.990357                  \n",
      "\u001b[J7600        0.0152263   0.0495832             0.9948         0.990357                  \n",
      "\u001b[J7700        0.0129224   0.0452356             0.9948         0.991786                  \n",
      "\u001b[J7800        0.0112667   0.0475368             0.9963         0.990357                  \n",
      "\u001b[J7900        0.011114    0.0452918             0.9967         0.989048                  \n",
      "\u001b[J8000        0.00977578  0.0515974             0.9966         0.989167                  \n",
      "\u001b[J8100        0.0123982   0.0449764             0.9965         0.990833                  \n",
      "\u001b[J8200        0.00693249  0.0470328             0.9974         0.990238                  \n",
      "\u001b[J8300        0.0106308   0.0556314             0.9966         0.989881                  \n",
      "\u001b[J8400        0.00940053  0.0511608             0.9968         0.990833                  \n",
      "\u001b[J8500        0.0076263   0.0515557             0.9971         0.990714                  \n",
      "\u001b[J8600        0.0127688   0.0465955             0.9953         0.990357                  \n",
      "\u001b[J8700        0.0140169   0.0418686             0.9954         0.991429                  \n",
      "\u001b[J8800        0.0122956   0.0419269             0.9961         0.991667                  \n",
      "\u001b[J8900        0.00547678  0.0459585             0.9981         0.99119                   \n",
      "\u001b[J9000        0.0110291   0.0448647             0.9958         0.991548                  \n"
     ]
    },
    {
     "name": "stdout",
     "output_type": "stream",
     "text": [
      "\u001b[J9100        0.00801817  0.045964              0.9969         0.991786                  \n",
      "\u001b[J9200        0.00674563  0.0447297             0.9974         0.990952                  \n",
      "\u001b[J9300        0.00962488  0.0457165             0.9963         0.991548                  \n",
      "\u001b[J9400        0.00817056  0.0440156             0.9971         0.990833                  \n",
      "\u001b[J9500        0.00856851  0.0507746             0.997          0.990714                  \n",
      "\u001b[J9600        0.00903468  0.0466263             0.9969         0.99131                   \n",
      "\u001b[J9700        0.00771739  0.0539612             0.9969         0.989286                  \n",
      "\u001b[J9800        0.00717819  0.0487454             0.997          0.990476                  \n",
      "\u001b[J9900        0.00839095  0.048912              0.9972         0.989762                  \n"
     ]
    }
   ],
   "source": [
    "# 学習の実行\n",
    "model = CNN()\n",
    "classifier = L.Classifier(model)\n",
    "optimizer = Adam()\n",
    "optimizer.setup(classifier)\n",
    "updater = StandardUpdater(train_iterator,optimizer,loss_func=classifier)\n",
    "trainer = Trainer(updater,(10000,'iteration'))\n",
    "trainer.extend(Evaluator(valid_iterator,classifier),trigger=(100,'iteration'))\n",
    "trainer.extend(PrintReport(['iteration','main/loss','validation/main/loss', 'main/accuracy', 'validation/main/accuracy']))\n",
    "logreport = LogReport(trigger=(100,'iteration'))\n",
    "trainer.extend(logreport)\n",
    "trainer.run()"
   ]
  },
  {
   "cell_type": "code",
   "execution_count": 229,
   "metadata": {},
   "outputs": [
    {
     "data": {
      "text/plain": [
       "<matplotlib.axes._subplots.AxesSubplot at 0x1106dd4a8>"
      ]
     },
     "execution_count": 229,
     "metadata": {},
     "output_type": "execute_result"
    },
    {
     "data": {
      "image/png": "[encoded data removed]",
      "text/plain": [
       "<matplotlib.figure.Figure at 0x110eb2470>"
      ]
     },
     "metadata": {},
     "output_type": "display_data"
    }
   ],
   "source": [
    "log_df = pd.DataFrame(logreport.log)\n",
    "pd.DataFrame(log_df[[\"main/loss\", \"validation/main/loss\"]].values, columns=[\"main/loss\", \"validation/main/loss\"], index=log_df[\"iteration\"]).plot()"
   ]
  },
  {
   "cell_type": "code",
   "execution_count": 230,
   "metadata": {},
   "outputs": [
    {
     "data": {
      "text/plain": [
       "<matplotlib.axes._subplots.AxesSubplot at 0x110ecf128>"
      ]
     },
     "execution_count": 230,
     "metadata": {},
     "output_type": "execute_result"
    },
    {
     "data": {
      "image/png": "[encoded data removed]",
      "text/plain": [
       "<matplotlib.figure.Figure at 0x1111b0160>"
      ]
     },
     "metadata": {},
     "output_type": "display_data"
    }
   ],
   "source": [
    "log_df = pd.DataFrame(logreport.log)\n",
    "pd.DataFrame(log_df[[ 'main/accuracy', 'validation/main/accuracy']].values, columns=[ 'main/accuracy', 'validation/main/accuracy'], index=log_df[\"iteration\"]).plot()"
   ]
  },
  {
   "cell_type": "code",
   "execution_count": 231,
   "metadata": {},
   "outputs": [],
   "source": [
    "y = model(test_x)"
   ]
  },
  {
   "cell_type": "code",
   "execution_count": 232,
   "metadata": {},
   "outputs": [],
   "source": [
    "pred = np.argmax(y.data,axis=1)"
   ]
  },
  {
   "cell_type": "code",
   "execution_count": 233,
   "metadata": {},
   "outputs": [],
   "source": [
    "# 提出用にフォーマットを作成\n",
    "submissions = pd.DataFrame({\"ImageId\": list(range(1,len(pred)+1)),\"Label\":pred})"
   ]
  },
  {
   "cell_type": "code",
   "execution_count": 234,
   "metadata": {},
   "outputs": [],
   "source": [
    "# CSVへの書き出し\n",
    "submissions.to_csv(\"digit_cnn_output_lenet_180721.csv\", index=False, header=True)"
   ]
  },
  {
   "cell_type": "code",
   "execution_count": null,
   "metadata": {},
   "outputs": [],
   "source": []
  }
 ],
 "metadata": {
  "kernelspec": {
   "display_name": "Python 3",
   "language": "python",
   "name": "python3"
  },
  "language_info": {
   "codemirror_mode": {
    "name": "ipython",
    "version": 3
   },
   "file_extension": ".py",
   "mimetype": "text/x-python",
   "name": "python",
   "nbconvert_exporter": "python",
   "pygments_lexer": "ipython3",
   "version": "3.6.4"
  }
 },
 "nbformat": 4,
 "nbformat_minor": 2
}
